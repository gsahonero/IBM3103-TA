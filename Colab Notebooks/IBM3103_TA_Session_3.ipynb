{
  "nbformat": 4,
  "nbformat_minor": 0,
  "metadata": {
    "colab": {
      "provenance": [],
      "toc_visible": true,
      "collapsed_sections": [
        "H3FMbP7BMqd7",
        "ego3q9SeMmDm"
      ],
      "authorship_tag": "ABX9TyPqLOqc3bPNyf5Wmx9gPGpV",
      "include_colab_link": true
    },
    "kernelspec": {
      "name": "julia",
      "display_name": "Julia"
    },
    "language_info": {
      "name": "julia"
    }
  },
  "cells": [
    {
      "cell_type": "markdown",
      "metadata": {
        "id": "view-in-github",
        "colab_type": "text"
      },
      "source": [
        "<a href=\"https://colab.research.google.com/github/gsahonero/IBM3103-TA/blob/main/Colab%20Notebooks/IBM3103_TA_Session_3.ipynb\" target=\"_parent\"><img src=\"https://colab.research.google.com/assets/colab-badge.svg\" alt=\"Open In Colab\"/></a>"
      ]
    },
    {
      "cell_type": "markdown",
      "source": [
        "#**Welcome**\n",
        "<center>\n",
        "\n",
        "<h3>...to a new TA session for <b>IBM3103</b> (Mathematical Methods for Biomedical Engineering).</h3>\n",
        "\n",
        "</center>\n",
        "\n",
        "**Learning results** - After this class, you'll learn how to:\n",
        "- Matrix inversion\n",
        "- How to compute determinants\n",
        "- Eigenvalues and eigenvectors properties\n",
        "\n"
      ],
      "metadata": {
        "id": "g25fR-WWHrGI"
      }
    },
    {
      "cell_type": "markdown",
      "source": [
        "#Table of contents\n",
        "\n",
        "- [Theoretical review](#matrix1)\n",
        "- [Exercise 1 - Eigenvalues and eigenvectors of an arbitrary matrix](#matrix2)\n",
        "- [Exercise 2 - Determinants properties](#matrix3)\n",
        "- [Bonus track - Visualizing matrix transformations](#matrix4)"
      ],
      "metadata": {
        "id": "CSn03K62JSef"
      }
    },
    {
      "cell_type": "code",
      "source": [
        "#@title Preparations\n",
        "using Plots\n",
        "using LinearAlgebra\n",
        "import Pkg; Pkg.add(\"BenchmarkTools\")\n",
        "using BenchmarkTools"
      ],
      "metadata": {
        "id": "FMlNiJIrOHwA",
        "cellView": "form",
        "colab": {
          "base_uri": "https://localhost:8080/"
        },
        "outputId": "f5b5f583-6290-4744-dbdd-529d8feaa122"
      },
      "execution_count": null,
      "outputs": [
        {
          "output_type": "stream",
          "name": "stderr",
          "text": [
            "\u001b[32m\u001b[1m    Updating\u001b[22m\u001b[39m registry at `~/.julia/registries/General.toml`\n",
            "\u001b[32m\u001b[1m   Resolving\u001b[22m\u001b[39m package versions...\n",
            "\u001b[32m\u001b[1m   Installed\u001b[22m\u001b[39m BenchmarkTools ─ v1.6.0\n",
            "\u001b[32m\u001b[1m    Updating\u001b[22m\u001b[39m `~/.julia/environments/v1.10/Project.toml`\n",
            "  \u001b[90m[6e4b80f9] \u001b[39m\u001b[92m+ BenchmarkTools v1.6.0\u001b[39m\n",
            "\u001b[32m\u001b[1m    Updating\u001b[22m\u001b[39m `~/.julia/environments/v1.10/Manifest.toml`\n",
            "  \u001b[90m[6e4b80f9] \u001b[39m\u001b[92m+ BenchmarkTools v1.6.0\u001b[39m\n",
            "  \u001b[90m[9abbd945] \u001b[39m\u001b[92m+ Profile\u001b[39m\n",
            "\u001b[32m\u001b[1mPrecompiling\u001b[22m\u001b[39m packages...\n",
            "   2609.2 ms\u001b[32m  ✓ \u001b[39mBenchmarkTools\n",
            "  1 dependency successfully precompiled in 12 seconds. 460 already precompiled.\n"
          ]
        }
      ]
    },
    {
      "cell_type": "markdown",
      "source": [
        "# Theoretical review\n",
        "<a name=\"matrix1\"></a>\n",
        "Matrices have curious properties and some of the more interesting are based on the eigenvalue decomposition (EVD). Let's start by the definition of matrix inversion, basically, we have that for a matrix $A$, its inverse $A^{-1}$ satisfies\n",
        "\n",
        "$$\n",
        "AA^{-1} = I\n",
        "$$\n",
        "\n",
        "**However, how do we see this related to EVD?**"
      ],
      "metadata": {
        "id": "UK5qdcJBGn4t"
      }
    },
    {
      "cell_type": "markdown",
      "source": [
        "## Singularity and EVD\n",
        "\n",
        "- A matrix is only invertible if all of its eigenvalues are non-zero. This is due to: $A^{-1} = \\left(P^{-1} D P \\right)^{-1} = PD^{-1}P^{-1}$ and if $D$ has zero values, then $D$ is singular."
      ],
      "metadata": {
        "id": "H3FMbP7BMqd7"
      }
    },
    {
      "cell_type": "markdown",
      "source": [
        "\n",
        "\n",
        "Let's test this, with this matrix"
      ],
      "metadata": {
        "id": "2tAt-Rj5M8C6"
      }
    },
    {
      "cell_type": "code",
      "source": [
        "A = [1 2 3; 4 5 6; 7 8 9]\n",
        "eigen_values, eigen_vectors = eigen(A)"
      ],
      "metadata": {
        "colab": {
          "base_uri": "https://localhost:8080/"
        },
        "id": "nduZNKDcJrZq",
        "outputId": "f517456e-111b-463d-d5cd-e21fcbd1948e"
      },
      "execution_count": null,
      "outputs": [
        {
          "output_type": "execute_result",
          "data": {
            "text/plain": [
              "Eigen{Float64, Float64, Matrix{Float64}, Vector{Float64}}\n",
              "values:\n",
              "3-element Vector{Float64}:\n",
              " -1.1168439698070427\n",
              " -1.3036777264747022e-15\n",
              " 16.116843969807043\n",
              "vectors:\n",
              "3×3 Matrix{Float64}:\n",
              " -0.78583     0.408248  -0.231971\n",
              " -0.0867513  -0.816497  -0.525322\n",
              "  0.612328    0.408248  -0.818673"
            ]
          },
          "metadata": {},
          "execution_count": 48
        }
      ]
    },
    {
      "cell_type": "markdown",
      "source": [
        "We have a very small eigenvalue, which is basically zero. So, $A$ is not invertible. Check it for yourself:"
      ],
      "metadata": {
        "id": "qhJ-8GQbK4dG"
      }
    },
    {
      "cell_type": "code",
      "source": [
        "# inv(A) # remove the first # to execute the cell"
      ],
      "metadata": {
        "id": "bgsCjy8oKrKD"
      },
      "execution_count": null,
      "outputs": []
    },
    {
      "cell_type": "markdown",
      "source": [
        "Julia tells us that $A$ is singular, i.e., it is not invertible. With a different matrix we can demonstrate the opposite:"
      ],
      "metadata": {
        "id": "FYbJFn0CLDiJ"
      }
    },
    {
      "cell_type": "code",
      "source": [
        "A = [1 2 1; 2 1 3; 1 3 1];\n",
        "eigen_values, eigen_vectors = eigen(A);\n",
        "inv_A = inv(A);"
      ],
      "metadata": {
        "id": "BDQl1tFpLydt"
      },
      "execution_count": null,
      "outputs": []
    },
    {
      "cell_type": "markdown",
      "source": [
        "Check each of them by uncommenting:"
      ],
      "metadata": {
        "id": "Ujqm-KJwMWw_"
      }
    },
    {
      "cell_type": "code",
      "source": [
        "# eigen_values\n",
        "# eigen_vectors\n",
        "# inv_A"
      ],
      "metadata": {
        "id": "Jeae4GM_MZQN"
      },
      "execution_count": null,
      "outputs": []
    },
    {
      "cell_type": "markdown",
      "source": [
        "## EVD and Inversion\n",
        "\n",
        "We may know that matrix inversion can take place through gaussian elimination or the adjoint method. But it can also be implemented through EVD\n",
        "\n",
        "- If $A$ is a diagonalizable matrix, then $A^{-1} = P^{-1}D^{-1}P$. Since $D$ is a diagonal matrix, the inverse can be computed by $1/d_{ii}$, and then the inversion relies on the EVD only. Of course, we are just moving the inverse computation objective to the EVD computation, so we still need to do that, but the EVD can be done through other methods like the QR algorithm. Even so, we need to invert $P$.\n",
        "- If $P$ is orthogonal, then $P^T = P^{-1}$, then $A^{-1} = P^T D^{-1} P$. Finally, we don't actually need to compute the inverse of $P$. $P$ is orthogonal when $A$ is symmetric."
      ],
      "metadata": {
        "id": "ego3q9SeMmDm"
      }
    },
    {
      "cell_type": "markdown",
      "source": [
        "Let's try this by finding the EVD of a matrix $A$ as follows"
      ],
      "metadata": {
        "id": "bpRR42CVbVO-"
      }
    },
    {
      "cell_type": "code",
      "source": [
        "A = [1 4 5; 6 2 1; 5 4 3]\n",
        "eigen_values, eigen_vectors = eigen(A);\n",
        "EVD_inv_A = eigen_vectors * diagm(1.0 ./eigen_values) * inv(eigen_vectors)"
      ],
      "metadata": {
        "colab": {
          "base_uri": "https://localhost:8080/"
        },
        "id": "5DGK2CsvNU5-",
        "outputId": "6ae18402-9f4f-417f-e792-843a48975295"
      },
      "execution_count": null,
      "outputs": [
        {
          "output_type": "execute_result",
          "data": {
            "text/plain": [
              "3×3 Matrix{Float64}:\n",
              "  0.1    0.4  -0.3\n",
              " -0.65  -1.1   1.45\n",
              "  0.7    0.8  -1.1"
            ]
          },
          "metadata": {},
          "execution_count": 78
        }
      ]
    },
    {
      "cell_type": "markdown",
      "source": [
        "Compare it with the official inverse:"
      ],
      "metadata": {
        "id": "SbNZGouCd27S"
      }
    },
    {
      "cell_type": "code",
      "source": [
        "inv(A)"
      ],
      "metadata": {
        "colab": {
          "base_uri": "https://localhost:8080/"
        },
        "id": "_c6j2XnictSc",
        "outputId": "568e6e28-22a6-4548-bc3f-c1cd2d421111"
      },
      "execution_count": null,
      "outputs": [
        {
          "output_type": "execute_result",
          "data": {
            "text/plain": [
              "3×3 Matrix{Float64}:\n",
              "  0.1    0.4  -0.3\n",
              " -0.65  -1.1   1.45\n",
              "  0.7    0.8  -1.1"
            ]
          },
          "metadata": {},
          "execution_count": 72
        }
      ]
    },
    {
      "cell_type": "markdown",
      "source": [
        "Great. Well, probably not that great given that we still need the inverse to compute the inverse. Let's check what happens if we have a symmetric matrix."
      ],
      "metadata": {
        "id": "0alJnEhFNLca"
      }
    },
    {
      "cell_type": "code",
      "source": [
        "A = [1 2 3; 2 5 9; 3 9 1]\n",
        "eigen_values, eigen_vectors = eigen(A)\n",
        "EVD_inv_A = eigen_vectors * diagm(1.0 ./ eigen_values) * eigen_vectors'"
      ],
      "metadata": {
        "colab": {
          "base_uri": "https://localhost:8080/"
        },
        "id": "qztlqIrjebp6",
        "outputId": "f25fb905-e720-4644-b637-3540a8688c29"
      },
      "execution_count": null,
      "outputs": [
        {
          "output_type": "execute_result",
          "data": {
            "text/plain": [
              "3×3 Matrix{Float64}:\n",
              "  4.47059   -1.47059   -0.176471\n",
              " -1.47059    0.470588   0.176471\n",
              " -0.176471   0.176471  -0.0588235"
            ]
          },
          "metadata": {},
          "execution_count": 84
        }
      ]
    },
    {
      "cell_type": "markdown",
      "source": [
        "Compare it with the official inverse:"
      ],
      "metadata": {
        "id": "4-Lw975ubH6w"
      }
    },
    {
      "cell_type": "code",
      "source": [
        "inv(A)"
      ],
      "metadata": {
        "colab": {
          "base_uri": "https://localhost:8080/"
        },
        "id": "FWNQhLp9et2M",
        "outputId": "95994956-47cf-49b3-c289-b68da15f19c1"
      },
      "execution_count": null,
      "outputs": [
        {
          "output_type": "execute_result",
          "data": {
            "text/plain": [
              "3×3 Matrix{Float64}:\n",
              "  4.47059   -1.47059   -0.176471\n",
              " -1.47059    0.470588   0.176471\n",
              " -0.176471   0.176471  -0.0588235"
            ]
          },
          "metadata": {},
          "execution_count": 85
        }
      ]
    },
    {
      "cell_type": "markdown",
      "source": [
        "**There!** Now, we have completely avoided the computation of an inverse matrix. If you are curious, though, these processes are computationally comparable. The EVD approach is lighter and faster."
      ],
      "metadata": {
        "id": "nq95r1RFfAvv"
      }
    },
    {
      "cell_type": "code",
      "source": [
        "@benchmark EVD_inv_A = eigen_vectors * diagm(1.0 ./ eigen_values) * eigen_vectors'"
      ],
      "metadata": {
        "colab": {
          "base_uri": "https://localhost:8080/"
        },
        "id": "8ke8PJFxfLwT",
        "outputId": "966989c9-cbc1-4244-f06e-531edd5641a3"
      },
      "execution_count": null,
      "outputs": [
        {
          "output_type": "execute_result",
          "data": {
            "text/plain": [
              "BenchmarkTools.Trial: 10000 samples with 214 evaluations per sample.\n",
              " Range \u001b[90m(\u001b[39m\u001b[36m\u001b[1mmin\u001b[22m\u001b[39m … \u001b[35mmax\u001b[39m\u001b[90m):  \u001b[39m\u001b[36m\u001b[1m343.196 ns\u001b[22m\u001b[39m … \u001b[35m46.822 μs\u001b[39m  \u001b[90m┊\u001b[39m GC \u001b[90m(\u001b[39mmin … max\u001b[90m): \u001b[39m0.00% … 97.91%\n",
              " Time  \u001b[90m(\u001b[39m\u001b[34m\u001b[1mmedian\u001b[22m\u001b[39m\u001b[90m):     \u001b[39m\u001b[34m\u001b[1m413.643 ns              \u001b[22m\u001b[39m\u001b[90m┊\u001b[39m GC \u001b[90m(\u001b[39mmedian\u001b[90m):    \u001b[39m0.00%\n",
              " Time  \u001b[90m(\u001b[39m\u001b[32m\u001b[1mmean\u001b[22m\u001b[39m ± \u001b[32mσ\u001b[39m\u001b[90m):   \u001b[39m\u001b[32m\u001b[1m514.250 ns\u001b[22m\u001b[39m ± \u001b[32m 1.234 μs\u001b[39m  \u001b[90m┊\u001b[39m GC \u001b[90m(\u001b[39mmean ± σ\u001b[90m):  \u001b[39m8.98% ±  3.75%\n",
              "\n",
              "  \u001b[39m \u001b[39m \u001b[39m▄\u001b[39m \u001b[39m▃\u001b[39m█\u001b[39m█\u001b[34m \u001b[39m\u001b[39m \u001b[39m \u001b[39m \u001b[39m \u001b[39m \u001b[39m \u001b[39m \u001b[39m \u001b[32m \u001b[39m\u001b[39m \u001b[39m \u001b[39m \u001b[39m \u001b[39m \u001b[39m \u001b[39m \u001b[39m \u001b[39m \u001b[39m \u001b[39m \u001b[39m \u001b[39m \u001b[39m \u001b[39m \u001b[39m \u001b[39m \u001b[39m \u001b[39m \u001b[39m \u001b[39m \u001b[39m \u001b[39m \u001b[39m \u001b[39m \u001b[39m \u001b[39m \u001b[39m \u001b[39m \u001b[39m \u001b[39m \u001b[39m \u001b[39m \u001b[39m \u001b[39m \u001b[39m \u001b[39m \u001b[39m \u001b[39m \u001b[39m \u001b[39m \u001b[39m \u001b[39m \u001b[39m \u001b[39m \n",
              "  \u001b[39m▂\u001b[39m▂\u001b[39m█\u001b[39m▅\u001b[39m█\u001b[39m█\u001b[39m█\u001b[34m▆\u001b[39m\u001b[39m▅\u001b[39m▄\u001b[39m▄\u001b[39m▄\u001b[39m▄\u001b[39m▃\u001b[39m▃\u001b[39m▃\u001b[32m▃\u001b[39m\u001b[39m▃\u001b[39m▃\u001b[39m▃\u001b[39m▃\u001b[39m▃\u001b[39m▃\u001b[39m▄\u001b[39m▄\u001b[39m▃\u001b[39m▃\u001b[39m▃\u001b[39m▃\u001b[39m▃\u001b[39m▃\u001b[39m▂\u001b[39m▂\u001b[39m▂\u001b[39m▂\u001b[39m▂\u001b[39m▂\u001b[39m▂\u001b[39m▂\u001b[39m▂\u001b[39m▂\u001b[39m▂\u001b[39m▂\u001b[39m▂\u001b[39m▂\u001b[39m▂\u001b[39m▂\u001b[39m▂\u001b[39m▂\u001b[39m▂\u001b[39m▂\u001b[39m▂\u001b[39m▂\u001b[39m▂\u001b[39m▁\u001b[39m▂\u001b[39m▂\u001b[39m▂\u001b[39m▂\u001b[39m▂\u001b[39m \u001b[39m▃\n",
              "  343 ns\u001b[90m          Histogram: frequency by time\u001b[39m          982 ns \u001b[0m\u001b[1m<\u001b[22m\n",
              "\n",
              " Memory estimate\u001b[90m: \u001b[39m\u001b[33m512 bytes\u001b[39m, allocs estimate\u001b[90m: \u001b[39m\u001b[33m6\u001b[39m."
            ]
          },
          "metadata": {},
          "execution_count": 88
        }
      ]
    },
    {
      "cell_type": "code",
      "source": [
        "@benchmark inv(A)"
      ],
      "metadata": {
        "colab": {
          "base_uri": "https://localhost:8080/"
        },
        "id": "o_o8MEcofYHI",
        "outputId": "9b98c518-60b8-4303-ae36-4723656b334e"
      },
      "execution_count": null,
      "outputs": [
        {
          "output_type": "execute_result",
          "data": {
            "text/plain": [
              "BenchmarkTools.Trial: 10000 samples with 14 evaluations per sample.\n",
              " Range \u001b[90m(\u001b[39m\u001b[36m\u001b[1mmin\u001b[22m\u001b[39m … \u001b[35mmax\u001b[39m\u001b[90m):  \u001b[39m\u001b[36m\u001b[1m846.071 ns\u001b[22m\u001b[39m … \u001b[35m505.164 μs\u001b[39m  \u001b[90m┊\u001b[39m GC \u001b[90m(\u001b[39mmin … max\u001b[90m): \u001b[39m0.00% … 98.58%\n",
              " Time  \u001b[90m(\u001b[39m\u001b[34m\u001b[1mmedian\u001b[22m\u001b[39m\u001b[90m):     \u001b[39m\u001b[34m\u001b[1m  1.053 μs               \u001b[22m\u001b[39m\u001b[90m┊\u001b[39m GC \u001b[90m(\u001b[39mmedian\u001b[90m):    \u001b[39m0.00%\n",
              " Time  \u001b[90m(\u001b[39m\u001b[32m\u001b[1mmean\u001b[22m\u001b[39m ± \u001b[32mσ\u001b[39m\u001b[90m):   \u001b[39m\u001b[32m\u001b[1m  1.424 μs\u001b[22m\u001b[39m ± \u001b[32m  6.714 μs\u001b[39m  \u001b[90m┊\u001b[39m GC \u001b[90m(\u001b[39mmean ± σ\u001b[90m):  \u001b[39m6.55% ±  1.39%\n",
              "\n",
              "  \u001b[39m \u001b[39m \u001b[39m \u001b[39m▄\u001b[39m█\u001b[39m▇\u001b[34m▂\u001b[39m\u001b[39m \u001b[39m \u001b[39m \u001b[39m \u001b[39m \u001b[39m \u001b[39m \u001b[39m \u001b[39m \u001b[32m \u001b[39m\u001b[39m \u001b[39m \u001b[39m \u001b[39m \u001b[39m \u001b[39m \u001b[39m \u001b[39m \u001b[39m \u001b[39m \u001b[39m \u001b[39m \u001b[39m \u001b[39m \u001b[39m \u001b[39m \u001b[39m \u001b[39m \u001b[39m \u001b[39m \u001b[39m \u001b[39m \u001b[39m \u001b[39m \u001b[39m \u001b[39m \u001b[39m \u001b[39m \u001b[39m \u001b[39m \u001b[39m \u001b[39m \u001b[39m \u001b[39m \u001b[39m \u001b[39m \u001b[39m \u001b[39m \u001b[39m \u001b[39m \u001b[39m \u001b[39m \u001b[39m \u001b[39m \u001b[39m \u001b[39m \n",
              "  \u001b[39m▁\u001b[39m▃\u001b[39m▆\u001b[39m█\u001b[39m█\u001b[39m█\u001b[34m█\u001b[39m\u001b[39m▄\u001b[39m▂\u001b[39m▁\u001b[39m▁\u001b[39m▁\u001b[39m▁\u001b[39m▁\u001b[39m▁\u001b[39m▁\u001b[32m▁\u001b[39m\u001b[39m▁\u001b[39m▁\u001b[39m▁\u001b[39m▂\u001b[39m▂\u001b[39m▂\u001b[39m▂\u001b[39m▂\u001b[39m▃\u001b[39m▃\u001b[39m▄\u001b[39m▄\u001b[39m▃\u001b[39m▃\u001b[39m▃\u001b[39m▃\u001b[39m▂\u001b[39m▂\u001b[39m▂\u001b[39m▁\u001b[39m▁\u001b[39m▁\u001b[39m▁\u001b[39m▁\u001b[39m▁\u001b[39m▁\u001b[39m▁\u001b[39m▁\u001b[39m▁\u001b[39m▁\u001b[39m▁\u001b[39m▁\u001b[39m▁\u001b[39m▁\u001b[39m▁\u001b[39m▁\u001b[39m▁\u001b[39m▁\u001b[39m▁\u001b[39m▁\u001b[39m▁\u001b[39m▁\u001b[39m▁\u001b[39m▁\u001b[39m \u001b[39m▂\n",
              "  846 ns\u001b[90m           Histogram: frequency by time\u001b[39m         2.99 μs \u001b[0m\u001b[1m<\u001b[22m\n",
              "\n",
              " Memory estimate\u001b[90m: \u001b[39m\u001b[33m1.86 KiB\u001b[39m, allocs estimate\u001b[90m: \u001b[39m\u001b[33m4\u001b[39m."
            ]
          },
          "metadata": {},
          "execution_count": 89
        }
      ]
    },
    {
      "cell_type": "markdown",
      "source": [
        "## Determinants and inversion\n",
        "\n",
        "Determinants are fascinating. You just need to realize that it really resembles playing with numbers. In any case, there are a bunch of reasons why we care about determinants when we deal with matrix inversion.\n",
        "\n",
        "- If $\\text{det}(A)=0$, then $A$ is non-invertible.\n",
        "- If $A$ is invertible, then $\\text{det}(A^{-1}) = \\frac{1}{\\text{det}(A)}$"
      ],
      "metadata": {
        "id": "3X0Zo3mFNM75"
      }
    },
    {
      "cell_type": "markdown",
      "source": [
        "Julia provides a built-in function to calculate the determinant. So, let's try this things"
      ],
      "metadata": {
        "id": "o6xzHFKU-7f8"
      }
    },
    {
      "cell_type": "code",
      "source": [
        "A = [1 2 3; 4 5 6; 7 8 9]\n",
        "det(A)"
      ],
      "metadata": {
        "colab": {
          "base_uri": "https://localhost:8080/"
        },
        "id": "7HASD2rt_EVE",
        "outputId": "833c3895-7c43-4a51-e9d5-9e578b9a07b8"
      },
      "execution_count": null,
      "outputs": [
        {
          "output_type": "execute_result",
          "data": {
            "text/plain": [
              "0.0"
            ]
          },
          "metadata": {},
          "execution_count": 90
        }
      ]
    },
    {
      "cell_type": "markdown",
      "source": [
        "That's right! This matrix $A$ as we saw earlier is non-invertible. But, what happens with a symmetric matrix?"
      ],
      "metadata": {
        "id": "tdSj05Zj_IMe"
      }
    },
    {
      "cell_type": "code",
      "source": [
        "A = [1 2 3; 2 1 4; 3 4 1]\n",
        "det(A)"
      ],
      "metadata": {
        "colab": {
          "base_uri": "https://localhost:8080/"
        },
        "id": "O7LUuE4-_Pe4",
        "outputId": "560c1586-00ab-441b-c041-b2efe8658499"
      },
      "execution_count": null,
      "outputs": [
        {
          "output_type": "execute_result",
          "data": {
            "text/plain": [
              "20.0"
            ]
          },
          "metadata": {},
          "execution_count": 92
        }
      ]
    },
    {
      "cell_type": "markdown",
      "source": [
        "Great! Moreover, to test the effect of the inversion we have"
      ],
      "metadata": {
        "id": "8E4d7ugE_VEw"
      }
    },
    {
      "cell_type": "code",
      "source": [
        "println(\"The determinant of the inverse matrix is \", det(inv(A)))\n",
        "println(\"The reciprocal of the determinant is \", 1.0/det(A))"
      ],
      "metadata": {
        "colab": {
          "base_uri": "https://localhost:8080/"
        },
        "id": "7p9s1GkQ_aIb",
        "outputId": "3619f78f-f57b-4566-bc25-38e8e4a5bb33"
      },
      "execution_count": null,
      "outputs": [
        {
          "output_type": "stream",
          "name": "stdout",
          "text": [
            "The determinant of the inverse matrix is 0.04999999999999998\n",
            "The reciprocal of the determinant is 0.05\n"
          ]
        }
      ]
    },
    {
      "cell_type": "markdown",
      "source": [
        "Please, allow for some numerical imprecisions."
      ],
      "metadata": {
        "id": "N8A7-lAD_rCD"
      }
    },
    {
      "cell_type": "markdown",
      "source": [
        "# Exercise 1 - Eigenvalues and eigenvectors of an arbitrary matrix\n",
        "<a name = \"matrix2\"></a>\n",
        "Considering the following matrix\n",
        "\n",
        "$A = \\begin{bmatrix}a_1& a_2& a_3 \\\\a_4 & a_5 & a_6 \\\\ a_7 & a_8 & a_9\\end{bmatrix}$\n",
        "\n",
        "1. Find the eigenvalues and eigenvectors if $a_2=a_4=1$, $a_7=a_3=2$, $a_8=a_6=3$\n",
        "2. Prove that the rank of $A$ is related to the number of zero eigenvalues"
      ],
      "metadata": {
        "id": "P_CclNjA_3cL"
      }
    },
    {
      "cell_type": "markdown",
      "source": [
        "## Solution 1\n",
        "Let  \n",
        "$\n",
        "A = \\begin{bmatrix}\n",
        "a_1 & a_2 & a_3 \\\\\n",
        "a_4 & a_5 & a_6 \\\\\n",
        "a_7 & a_8 & a_9\n",
        "\\end{bmatrix}\n",
        "$\n",
        "\n",
        "Assume the constraints:  \n",
        "$\n",
        "a_2 = a_4,\\quad a_7 = a_3,\\quad a_8 = a_6\n",
        "$\n",
        "\n",
        "Under these conditions, the matrix becomes:\n",
        "$\n",
        "A = \\begin{bmatrix}\n",
        "a_1 & a_2 & a_3 \\\\\n",
        "a_2 & a_5 & a_6 \\\\\n",
        "a_3 & a_6 & a_9\n",
        "\\end{bmatrix}\n",
        "$\n",
        "\n",
        "This matrix is symmetric, i.e., $ A = A^\\top$, which implies:\n",
        "- It is diagonalizable.\n",
        "- All eigenvalues are real.\n",
        "- Eigenvectors corresponding to different eigenvalues are orthogonal.\n",
        "\n",
        "To find the eigenvalues, compute:\n",
        "$\n",
        "\\det(A - \\lambda I) = 0\n",
        "$\n",
        "\n",
        "So:\n",
        "$\n",
        "\\det\\left(\\begin{bmatrix}\n",
        "a_1 - \\lambda & a_2 & a_3 \\\\\n",
        "a_2 & a_5 - \\lambda & a_6 \\\\\n",
        "a_3 & a_6 & a_9 - \\lambda\n",
        "\\end{bmatrix}\\right) = 0\n",
        "$\n",
        "\n",
        "Solving this gives a cubic equation in $ \\lambda $. The solutions to this equation are the eigenvalues. Each eigenvalue $ \\lambda_i $ can then be used to solve $ (A - \\lambda_i I)\\vec{v}_i = 0 $ to find the corresponding eigenvector $ \\vec{v}_i $.\n"
      ],
      "metadata": {
        "id": "AcA3MZsZRBy1"
      }
    },
    {
      "cell_type": "markdown",
      "source": [
        "## Solution 2\n",
        "\n",
        "We want to prove that the **rank of** $ A $ is related to the number of **zero eigenvalues**.\n",
        "\n",
        "Let $ \\lambda_1, \\lambda_2, \\lambda_3 $ be the eigenvalues of $ A $. Then:\n",
        "\n",
        "- If $ \\lambda_i = 0 $, then there exists a nonzero vector $ \\vec{v}_i $ such that $ A\\vec{v}_i = 0 $, so $ \\vec{v}_i $ lies in the null space.\n",
        "- The number of zero eigenvalues equals the **nullity** of $ A $.\n",
        "\n",
        "By the rank-nullity theorem:\n",
        "$\n",
        "\\text{rank}(A) + \\text{nullity}(A) = n\n",
        "$\n",
        "\n",
        "So, if $k$ eigenvalues are zero:\n",
        "$\n",
        "\\text{rank}(A) = 3 - k\n",
        "$"
      ],
      "metadata": {
        "id": "o14kCdsQVbkr"
      }
    },
    {
      "cell_type": "markdown",
      "source": [
        "# Exercise 2 - Determinants properties\n",
        "<a name=\"matrix3\"></a>\n",
        "Given the following matrix\n",
        "$A = \\begin{bmatrix}a_1& a_2& a_3 \\\\a_4 & a_5 & a_6 \\\\ a_7 & a_8 & a_9\\end{bmatrix}$\n",
        "\n",
        "1. Find the value of $\\text{det}(kA) + c\\text{det}(A)$ if $k=2$ and $c=3$.\n",
        "2. If $a_1 = a_5 = a_9 = 1$, $a_2=a_4=a_6=a_8=x$ and $a_7 = a_3 = 2x$, then what is the value of $\\text{det}(kA)$ with $k=2$."
      ],
      "metadata": {
        "id": "TL6cCD4tA7Uf"
      }
    },
    {
      "cell_type": "markdown",
      "source": [
        "## Solution 1\n",
        "\n",
        "Given:  \n",
        "$\n",
        "A = \\begin{bmatrix}\n",
        "a_1 & a_2 & a_3 \\\\\n",
        "a_4 & a_5 & a_6 \\\\\n",
        "a_7 & a_8 & a_9\n",
        "\\end{bmatrix}\n",
        "$\n",
        "\n",
        "Let $k = 2$, $c = 3$. Find:\n",
        "$\n",
        "\\det(kA) + c\\det(A)\n",
        "$\n",
        "\n",
        "Using the rule $\\det(kA) = k^n \\det(A)$, where \\( n = 3 \\):\n",
        "\n",
        "$\n",
        "\\det(2A) = 2^3 \\det(A) = 8\\det(A)\n",
        "$\n",
        "\n",
        "Then:\n",
        "$\n",
        "\\det(2A) + 3\\det(A) = 8\\det(A) + 3\\det(A) = 11\\det(A)\n",
        "$\n"
      ],
      "metadata": {
        "id": "RIgou3X8RxgF"
      }
    },
    {
      "cell_type": "markdown",
      "source": [
        "## Solution 2\n",
        "\n",
        "Let\n",
        "$$\n",
        "A = \\begin{bmatrix}\n",
        "1 & x & 2x \\\\\n",
        "x & 1 & x \\\\\n",
        "2x & x & 1\n",
        "\\end{bmatrix}\n",
        "$$\n",
        "\n",
        "We want to compute $ \\det(2A) $.\n",
        "\n",
        "### Step 1: Compute $ \\det(A) $\n",
        "\n",
        "Use cofactor expansion along the first row:\n",
        "$\n",
        "\\det(A) = 1 \\cdot \\begin{vmatrix}1 & x \\\\ x & 1\\end{vmatrix}\n",
        "- x \\cdot \\begin{vmatrix}x & x \\\\ 2x & 1\\end{vmatrix}\n",
        "+ 2x \\cdot \\begin{vmatrix}x & 1 \\\\ 2x & x\\end{vmatrix}$\n",
        "\n",
        "Now calculate each minor:\n",
        "\n",
        "- $ \\begin{vmatrix}1 & x \\\\ x & 1\\end{vmatrix} = 1 - x^2 $\n",
        "- $ \\begin{vmatrix}x & x \\\\ 2x & 1\\end{vmatrix} = x(1) - x(2x) = x - 2x^2 $\n",
        "- $ \\begin{vmatrix}x & 1 \\\\ 2x & x\\end{vmatrix} = x(x) - 1(2x) = x^2 - 2x $\n",
        "\n",
        "Putting it all together:\n",
        "$$\n",
        "\\begin{aligned}\n",
        "\\det(A) &= 1(1 - x^2) - x(x - 2x^2) + 2x(x^2 - 2x) \\\\\n",
        "&= 1 - x^2 - x^2 + 2x^3 + 2x^3 - 4x^2 \\\\\n",
        "&= 1 - 6x^2 + 4x^3\n",
        "\\end{aligned}\n",
        "$$\n",
        "\n",
        "### Step 2: Multiply by $ 8 $ to get $ \\det(2A) $\n",
        "\n",
        "$$\n",
        "\\det(2A) = 8 \\cdot \\det(A) = 8(1 - 6x^2 + 4x^3) = 8 - 48x^2 + 32x^3\n",
        "$$"
      ],
      "metadata": {
        "id": "9KbdExppUoag"
      }
    },
    {
      "cell_type": "markdown",
      "source": [
        "<a name=\"matrix4\"></a>\n",
        "# Bonus track"
      ],
      "metadata": {
        "id": "j5qfTNbuIhwM"
      }
    },
    {
      "cell_type": "markdown",
      "source": [
        "## Plotting"
      ],
      "metadata": {
        "id": "jR_oH3MkuxQE"
      }
    },
    {
      "cell_type": "markdown",
      "source": [
        "Let's say that this is the vector $x=\\begin{bmatrix}1 \\\\ 2 \\\\ 3\\end{bmatrix}$"
      ],
      "metadata": {
        "id": "LKYtFSP3v14k"
      }
    },
    {
      "cell_type": "code",
      "source": [
        "x = [1, 2, 3]\n",
        "plot([0, x[1]], [0, x[2]], [0, x[3]], arrow=true, linewidth=2, label=\"\\$x\\$\")"
      ],
      "metadata": {
        "colab": {
          "base_uri": "https://localhost:8080/",
          "height": 422
        },
        "id": "CdB9d1c2pYfH",
        "outputId": "0ef89118-699f-460f-f4c6-1b945d5a83eb"
      },
      "execution_count": null,
      "outputs": [
        {
          "output_type": "execute_result",
          "data": {
            "image/png": "[encoded data removed]",
            "text/html": [
              "<?xml version=\"1.0\" encoding=\"utf-8\"?>\n",
              "<svg xmlns=\"http://www.w3.org/2000/svg\" xmlns:xlink=\"http://www.w3.org/1999/xlink\" width=\"600\" height=\"400\" viewBox=\"0 0 2400 1600\">\n",
              "<defs>\n",
              "  <clipPath id=\"clip850\">\n",
              "    <rect x=\"0\" y=\"0\" width=\"2400\" height=\"1600\"/>\n",
              "  </clipPath>\n",
              "</defs>\n",
              "<path clip-path=\"url(#clip850)\" d=\"M0 1600 L2400 1600 L2400 0 L0 0  Z\" fill=\"#ffffff\" fill-rule=\"evenodd\" fill-opacity=\"1\"/>\n",
              "<defs>\n",
              "  <clipPath id=\"clip851\">\n",
              "    <rect x=\"480\" y=\"0\" width=\"1681\" height=\"1600\"/>\n",
              "  </clipPath>\n",
              "</defs>\n",
              "<defs>\n",
              "  <clipPath id=\"clip852\">\n",
              "    <rect x=\"110\" y=\"47\" width=\"2243\" height=\"1440\"/>\n",
              "  </clipPath>\n",
              "</defs>\n",
              "<path clip-path=\"url(#clip852)\" d=\"M-896.485 1856.88 L-896.485 1178.01 L-112.594 838.577 L1245.15 1034.55 L1245.15 1713.42 L461.254 2052.85 L-896.485 1856.88  Z\" fill=\"#ffffff\" fill-rule=\"evenodd\" fill-opacity=\"1\"/>\n",
              "<polyline clip-path=\"url(#clip852)\" style=\"stroke:#000000; stroke-linecap:round; stroke-linejoin:round; stroke-width:2; stroke-opacity:0.1; fill:none\" points=\"684.652,1208.56 1100.11,848.76 1100.11,129.158 \"/>\n",
              "<polyline clip-path=\"url(#clip852)\" style=\"stroke:#000000; stroke-linecap:round; stroke-linejoin:round; stroke-width:2; stroke-opacity:0.1; fill:none\" points=\"854.37,1257.55 1269.83,897.753 1269.83,178.151 \"/>\n",
              "<polyline clip-path=\"url(#clip852)\" style=\"stroke:#000000; stroke-linecap:round; stroke-linejoin:round; stroke-width:2; stroke-opacity:0.1; fill:none\" points=\"1024.09,1306.55 1439.55,946.746 1439.55,227.145 \"/>\n",
              "<polyline clip-path=\"url(#clip852)\" style=\"stroke:#000000; stroke-linecap:round; stroke-linejoin:round; stroke-width:2; stroke-opacity:0.1; fill:none\" points=\"1193.8,1355.54 1609.27,995.74 1609.27,276.138 \"/>\n",
              "<polyline clip-path=\"url(#clip852)\" style=\"stroke:#000000; stroke-linecap:round; stroke-linejoin:round; stroke-width:2; stroke-opacity:0.1; fill:none\" points=\"1363.52,1404.53 1778.98,1044.73 1778.98,325.131 \"/>\n",
              "<polyline clip-path=\"url(#clip852)\" style=\"stroke:#000000; stroke-linecap:round; stroke-linejoin:round; stroke-width:2; stroke-opacity:0.1; fill:none\" points=\"1395.65,1400.23 676.045,1192.5 676.045,472.897 \"/>\n",
              "<polyline clip-path=\"url(#clip852)\" style=\"stroke:#000000; stroke-linecap:round; stroke-linejoin:round; stroke-width:2; stroke-opacity:0.1; fill:none\" points=\"1493.63,1315.37 774.031,1107.64 774.031,388.038 \"/>\n",
              "<polyline clip-path=\"url(#clip852)\" style=\"stroke:#000000; stroke-linecap:round; stroke-linejoin:round; stroke-width:2; stroke-opacity:0.1; fill:none\" points=\"1591.62,1230.51 872.017,1022.78 872.017,303.179 \"/>\n",
              "<polyline clip-path=\"url(#clip852)\" style=\"stroke:#000000; stroke-linecap:round; stroke-linejoin:round; stroke-width:2; stroke-opacity:0.1; fill:none\" points=\"1689.61,1145.65 970.004,937.923 970.004,218.321 \"/>\n",
              "<polyline clip-path=\"url(#clip852)\" style=\"stroke:#000000; stroke-linecap:round; stroke-linejoin:round; stroke-width:2; stroke-opacity:0.1; fill:none\" points=\"1787.59,1060.8 1067.99,853.064 1067.99,133.462 \"/>\n",
              "<polyline clip-path=\"url(#clip852)\" style=\"stroke:#000000; stroke-linecap:round; stroke-linejoin:round; stroke-width:2; stroke-opacity:0.1; fill:none\" points=\"664.286,1182.32 1079.75,822.515 1799.35,1030.25 \"/>\n",
              "<polyline clip-path=\"url(#clip852)\" style=\"stroke:#000000; stroke-linecap:round; stroke-linejoin:round; stroke-width:2; stroke-opacity:0.1; fill:none\" points=\"664.286,956.026 1079.75,596.225 1799.35,803.956 \"/>\n",
              "<polyline clip-path=\"url(#clip852)\" style=\"stroke:#000000; stroke-linecap:round; stroke-linejoin:round; stroke-width:2; stroke-opacity:0.1; fill:none\" points=\"664.286,729.736 1079.75,369.935 1799.35,577.666 \"/>\n",
              "<polyline clip-path=\"url(#clip852)\" style=\"stroke:#000000; stroke-linecap:round; stroke-linejoin:round; stroke-width:2; stroke-opacity:0.1; fill:none\" points=\"664.286,503.446 1079.75,143.645 1799.35,351.376 \"/>\n",
              "<polyline clip-path=\"url(#clip850)\" style=\"stroke:#000000; stroke-linecap:round; stroke-linejoin:round; stroke-width:4; stroke-opacity:1; fill:none\" points=\"664.286,1202.68 1383.89,1410.41 \"/>\n",
              "<polyline clip-path=\"url(#clip850)\" style=\"stroke:#000000; stroke-linecap:round; stroke-linejoin:round; stroke-width:4; stroke-opacity:1; fill:none\" points=\"684.652,1208.56 689.638,1204.24 \"/>\n",
              "<polyline clip-path=\"url(#clip850)\" style=\"stroke:#000000; stroke-linecap:round; stroke-linejoin:round; stroke-width:4; stroke-opacity:1; fill:none\" points=\"854.37,1257.55 859.355,1253.24 \"/>\n",
              "<polyline clip-path=\"url(#clip850)\" style=\"stroke:#000000; stroke-linecap:round; stroke-linejoin:round; stroke-width:4; stroke-opacity:1; fill:none\" points=\"1024.09,1306.55 1029.07,1302.23 \"/>\n",
              "<polyline clip-path=\"url(#clip850)\" style=\"stroke:#000000; stroke-linecap:round; stroke-linejoin:round; stroke-width:4; stroke-opacity:1; fill:none\" points=\"1193.8,1355.54 1198.79,1351.22 \"/>\n",
              "<polyline clip-path=\"url(#clip850)\" style=\"stroke:#000000; stroke-linecap:round; stroke-linejoin:round; stroke-width:4; stroke-opacity:1; fill:none\" points=\"1363.52,1404.53 1368.51,1400.22 \"/>\n",
              "<path clip-path=\"url(#clip850)\" d=\"M593.201 1222.86 Q589.589 1222.86 587.761 1226.43 Q585.955 1229.97 585.955 1237.1 Q585.955 1244.21 587.761 1247.77 Q589.589 1251.31 593.201 1251.31 Q596.835 1251.31 598.64 1247.77 Q600.469 1244.21 600.469 1237.1 Q600.469 1229.97 598.64 1226.43 Q596.835 1222.86 593.201 1222.86 M593.201 1219.16 Q599.011 1219.16 602.066 1223.77 Q605.145 1228.35 605.145 1237.1 Q605.145 1245.83 602.066 1250.43 Q599.011 1255.02 593.201 1255.02 Q587.39 1255.02 584.312 1250.43 Q581.256 1245.83 581.256 1237.1 Q581.256 1228.35 584.312 1223.77 Q587.39 1219.16 593.201 1219.16 Z\" fill=\"#000000\" fill-rule=\"nonzero\" fill-opacity=\"1\" /><path clip-path=\"url(#clip850)\" d=\"M613.363 1248.47 L618.247 1248.47 L618.247 1254.35 L613.363 1254.35 L613.363 1248.47 Z\" fill=\"#000000\" fill-rule=\"nonzero\" fill-opacity=\"1\" /><path clip-path=\"url(#clip850)\" d=\"M638.432 1222.86 Q634.821 1222.86 632.992 1226.43 Q631.186 1229.97 631.186 1237.1 Q631.186 1244.21 632.992 1247.77 Q634.821 1251.31 638.432 1251.31 Q642.066 1251.31 643.872 1247.77 Q645.7 1244.21 645.7 1237.1 Q645.7 1229.97 643.872 1226.43 Q642.066 1222.86 638.432 1222.86 M638.432 1219.16 Q644.242 1219.16 647.298 1223.77 Q650.376 1228.35 650.376 1237.1 Q650.376 1245.83 647.298 1250.43 Q644.242 1255.02 638.432 1255.02 Q632.622 1255.02 629.543 1250.43 Q626.487 1245.83 626.487 1237.1 Q626.487 1228.35 629.543 1223.77 Q632.622 1219.16 638.432 1219.16 Z\" fill=\"#000000\" fill-rule=\"nonzero\" fill-opacity=\"1\" /><path clip-path=\"url(#clip850)\" d=\"M668.594 1222.86 Q664.983 1222.86 663.154 1226.43 Q661.348 1229.97 661.348 1237.1 Q661.348 1244.21 663.154 1247.77 Q664.983 1251.31 668.594 1251.31 Q672.228 1251.31 674.033 1247.77 Q675.862 1244.21 675.862 1237.1 Q675.862 1229.97 674.033 1226.43 Q672.228 1222.86 668.594 1222.86 M668.594 1219.16 Q674.404 1219.16 677.459 1223.77 Q680.538 1228.35 680.538 1237.1 Q680.538 1245.83 677.459 1250.43 Q674.404 1255.02 668.594 1255.02 Q662.784 1255.02 659.705 1250.43 Q656.649 1245.83 656.649 1237.1 Q656.649 1228.35 659.705 1223.77 Q662.784 1219.16 668.594 1219.16 Z\" fill=\"#000000\" fill-rule=\"nonzero\" fill-opacity=\"1\" /><path clip-path=\"url(#clip850)\" d=\"M763.913 1271.86 Q760.302 1271.86 758.474 1275.42 Q756.668 1278.96 756.668 1286.09 Q756.668 1293.2 758.474 1296.76 Q760.302 1300.31 763.913 1300.31 Q767.548 1300.31 769.353 1296.76 Q771.182 1293.2 771.182 1286.09 Q771.182 1278.96 769.353 1275.42 Q767.548 1271.86 763.913 1271.86 M763.913 1268.15 Q769.724 1268.15 772.779 1272.76 Q775.858 1277.34 775.858 1286.09 Q775.858 1294.82 772.779 1299.43 Q769.724 1304.01 763.913 1304.01 Q758.103 1304.01 755.025 1299.43 Q751.969 1294.82 751.969 1286.09 Q751.969 1277.34 755.025 1272.76 Q758.103 1268.15 763.913 1268.15 Z\" fill=\"#000000\" fill-rule=\"nonzero\" fill-opacity=\"1\" /><path clip-path=\"url(#clip850)\" d=\"M784.075 1297.46 L788.96 1297.46 L788.96 1303.34 L784.075 1303.34 L784.075 1297.46 Z\" fill=\"#000000\" fill-rule=\"nonzero\" fill-opacity=\"1\" /><path clip-path=\"url(#clip850)\" d=\"M803.172 1299.4 L819.492 1299.4 L819.492 1303.34 L797.547 1303.34 L797.547 1299.4 Q800.209 1296.65 804.793 1292.02 Q809.399 1287.37 810.58 1286.02 Q812.825 1283.5 813.705 1281.76 Q814.608 1280.01 814.608 1278.32 Q814.608 1275.56 812.663 1273.83 Q810.742 1272.09 807.64 1272.09 Q805.441 1272.09 802.987 1272.85 Q800.557 1273.62 797.779 1275.17 L797.779 1270.45 Q800.603 1269.31 803.057 1268.73 Q805.51 1268.15 807.547 1268.15 Q812.918 1268.15 816.112 1270.84 Q819.307 1273.52 819.307 1278.01 Q819.307 1280.14 818.496 1282.07 Q817.709 1283.96 815.603 1286.56 Q815.024 1287.23 811.922 1290.45 Q808.821 1293.64 803.172 1299.4 Z\" fill=\"#000000\" fill-rule=\"nonzero\" fill-opacity=\"1\" /><path clip-path=\"url(#clip850)\" d=\"M829.353 1268.78 L847.709 1268.78 L847.709 1272.71 L833.635 1272.71 L833.635 1281.19 Q834.654 1280.84 835.672 1280.68 Q836.691 1280.49 837.709 1280.49 Q843.496 1280.49 846.876 1283.66 Q850.256 1286.83 850.256 1292.25 Q850.256 1297.83 846.783 1300.93 Q843.311 1304.01 836.992 1304.01 Q834.816 1304.01 832.547 1303.64 Q830.302 1303.27 827.895 1302.53 L827.895 1297.83 Q829.978 1298.96 832.2 1299.52 Q834.422 1300.07 836.899 1300.07 Q840.904 1300.07 843.242 1297.97 Q845.58 1295.86 845.58 1292.25 Q845.58 1288.64 843.242 1286.53 Q840.904 1284.43 836.899 1284.43 Q835.024 1284.43 833.149 1284.84 Q831.297 1285.26 829.353 1286.14 L829.353 1268.78 Z\" fill=\"#000000\" fill-rule=\"nonzero\" fill-opacity=\"1\" /><path clip-path=\"url(#clip850)\" d=\"M932.635 1320.85 Q929.024 1320.85 927.196 1324.42 Q925.39 1327.96 925.39 1335.09 Q925.39 1342.19 927.196 1345.76 Q929.024 1349.3 932.635 1349.3 Q936.27 1349.3 938.075 1345.76 Q939.904 1342.19 939.904 1335.09 Q939.904 1327.96 938.075 1324.42 Q936.27 1320.85 932.635 1320.85 M932.635 1317.15 Q938.446 1317.15 941.501 1321.75 Q944.58 1326.34 944.58 1335.09 Q944.58 1343.81 941.501 1348.42 Q938.446 1353 932.635 1353 Q926.825 1353 923.747 1348.42 Q920.691 1343.81 920.691 1335.09 Q920.691 1326.34 923.747 1321.75 Q926.825 1317.15 932.635 1317.15 Z\" fill=\"#000000\" fill-rule=\"nonzero\" fill-opacity=\"1\" /><path clip-path=\"url(#clip850)\" d=\"M952.797 1346.45 L957.682 1346.45 L957.682 1352.33 L952.797 1352.33 L952.797 1346.45 Z\" fill=\"#000000\" fill-rule=\"nonzero\" fill-opacity=\"1\" /><path clip-path=\"url(#clip850)\" d=\"M967.913 1317.77 L986.269 1317.77 L986.269 1321.71 L972.195 1321.71 L972.195 1330.18 Q973.214 1329.83 974.232 1329.67 Q975.251 1329.48 976.269 1329.48 Q982.056 1329.48 985.436 1332.66 Q988.816 1335.83 988.816 1341.24 Q988.816 1346.82 985.343 1349.92 Q981.871 1353 975.552 1353 Q973.376 1353 971.107 1352.63 Q968.862 1352.26 966.455 1351.52 L966.455 1346.82 Q968.538 1347.96 970.76 1348.51 Q972.982 1349.07 975.459 1349.07 Q979.464 1349.07 981.802 1346.96 Q984.14 1344.86 984.14 1341.24 Q984.14 1337.63 981.802 1335.53 Q979.464 1333.42 975.459 1333.42 Q973.584 1333.42 971.709 1333.84 Q969.857 1334.25 967.913 1335.13 L967.913 1317.77 Z\" fill=\"#000000\" fill-rule=\"nonzero\" fill-opacity=\"1\" /><path clip-path=\"url(#clip850)\" d=\"M1008.03 1320.85 Q1004.42 1320.85 1002.59 1324.42 Q1000.78 1327.96 1000.78 1335.09 Q1000.78 1342.19 1002.59 1345.76 Q1004.42 1349.3 1008.03 1349.3 Q1011.66 1349.3 1013.47 1345.76 Q1015.3 1342.19 1015.3 1335.09 Q1015.3 1327.96 1013.47 1324.42 Q1011.66 1320.85 1008.03 1320.85 M1008.03 1317.15 Q1013.84 1317.15 1016.89 1321.75 Q1019.97 1326.34 1019.97 1335.09 Q1019.97 1343.81 1016.89 1348.42 Q1013.84 1353 1008.03 1353 Q1002.22 1353 999.14 1348.42 Q996.084 1343.81 996.084 1335.09 Q996.084 1326.34 999.14 1321.75 Q1002.22 1317.15 1008.03 1317.15 Z\" fill=\"#000000\" fill-rule=\"nonzero\" fill-opacity=\"1\" /><path clip-path=\"url(#clip850)\" d=\"M1103.35 1369.84 Q1099.74 1369.84 1097.91 1373.41 Q1096.1 1376.95 1096.1 1384.08 Q1096.1 1391.19 1097.91 1394.75 Q1099.74 1398.29 1103.35 1398.29 Q1106.98 1398.29 1108.79 1394.75 Q1110.62 1391.19 1110.62 1384.08 Q1110.62 1376.95 1108.79 1373.41 Q1106.98 1369.84 1103.35 1369.84 M1103.35 1366.14 Q1109.16 1366.14 1112.21 1370.75 Q1115.29 1375.33 1115.29 1384.08 Q1115.29 1392.81 1112.21 1397.41 Q1109.16 1402 1103.35 1402 Q1097.54 1402 1094.46 1397.41 Q1091.4 1392.81 1091.4 1384.08 Q1091.4 1375.33 1094.46 1370.75 Q1097.54 1366.14 1103.35 1366.14 Z\" fill=\"#000000\" fill-rule=\"nonzero\" fill-opacity=\"1\" /><path clip-path=\"url(#clip850)\" d=\"M1123.51 1395.45 L1128.39 1395.45 L1128.39 1401.33 L1123.51 1401.33 L1123.51 1395.45 Z\" fill=\"#000000\" fill-rule=\"nonzero\" fill-opacity=\"1\" /><path clip-path=\"url(#clip850)\" d=\"M1137.4 1366.77 L1159.62 1366.77 L1159.62 1368.76 L1147.07 1401.33 L1142.19 1401.33 L1154 1370.7 L1137.4 1370.7 L1137.4 1366.77 Z\" fill=\"#000000\" fill-rule=\"nonzero\" fill-opacity=\"1\" /><path clip-path=\"url(#clip850)\" d=\"M1168.79 1366.77 L1187.14 1366.77 L1187.14 1370.7 L1173.07 1370.7 L1173.07 1379.17 Q1174.09 1378.83 1175.11 1378.66 Q1176.13 1378.48 1177.14 1378.48 Q1182.93 1378.48 1186.31 1381.65 Q1189.69 1384.82 1189.69 1390.24 Q1189.69 1395.82 1186.22 1398.92 Q1182.75 1402 1176.43 1402 Q1174.25 1402 1171.98 1401.63 Q1169.74 1401.26 1167.33 1400.52 L1167.33 1395.82 Q1169.41 1396.95 1171.63 1397.51 Q1173.86 1398.06 1176.33 1398.06 Q1180.34 1398.06 1182.68 1395.95 Q1185.01 1393.85 1185.01 1390.24 Q1185.01 1386.63 1182.68 1384.52 Q1180.34 1382.41 1176.33 1382.41 Q1174.46 1382.41 1172.58 1382.83 Q1170.73 1383.25 1168.79 1384.13 L1168.79 1366.77 Z\" fill=\"#000000\" fill-rule=\"nonzero\" fill-opacity=\"1\" /><path clip-path=\"url(#clip850)\" d=\"M1262.88 1446.38 L1270.52 1446.38 L1270.52 1420.02 L1262.21 1421.68 L1262.21 1417.43 L1270.47 1415.76 L1275.15 1415.76 L1275.15 1446.38 L1282.79 1446.38 L1282.79 1450.32 L1262.88 1450.32 L1262.88 1446.38 Z\" fill=\"#000000\" fill-rule=\"nonzero\" fill-opacity=\"1\" /><path clip-path=\"url(#clip850)\" d=\"M1292.23 1444.44 L1297.12 1444.44 L1297.12 1450.32 L1292.23 1450.32 L1292.23 1444.44 Z\" fill=\"#000000\" fill-rule=\"nonzero\" fill-opacity=\"1\" /><path clip-path=\"url(#clip850)\" d=\"M1317.3 1418.84 Q1313.69 1418.84 1311.86 1422.4 Q1310.06 1425.94 1310.06 1433.07 Q1310.06 1440.18 1311.86 1443.74 Q1313.69 1447.29 1317.3 1447.29 Q1320.94 1447.29 1322.74 1443.74 Q1324.57 1440.18 1324.57 1433.07 Q1324.57 1425.94 1322.74 1422.4 Q1320.94 1418.84 1317.3 1418.84 M1317.3 1415.13 Q1323.11 1415.13 1326.17 1419.74 Q1329.25 1424.32 1329.25 1433.07 Q1329.25 1441.8 1326.17 1446.41 Q1323.11 1450.99 1317.3 1450.99 Q1311.49 1450.99 1308.41 1446.41 Q1305.36 1441.8 1305.36 1433.07 Q1305.36 1424.32 1308.41 1419.74 Q1311.49 1415.13 1317.3 1415.13 Z\" fill=\"#000000\" fill-rule=\"nonzero\" fill-opacity=\"1\" /><path clip-path=\"url(#clip850)\" d=\"M1347.46 1418.84 Q1343.85 1418.84 1342.02 1422.4 Q1340.22 1425.94 1340.22 1433.07 Q1340.22 1440.18 1342.02 1443.74 Q1343.85 1447.29 1347.46 1447.29 Q1351.1 1447.29 1352.9 1443.74 Q1354.73 1440.18 1354.73 1433.07 Q1354.73 1425.94 1352.9 1422.4 Q1351.1 1418.84 1347.46 1418.84 M1347.46 1415.13 Q1353.27 1415.13 1356.33 1419.74 Q1359.41 1424.32 1359.41 1433.07 Q1359.41 1441.8 1356.33 1446.41 Q1353.27 1450.99 1347.46 1450.99 Q1341.65 1450.99 1338.57 1446.41 Q1335.52 1441.8 1335.52 1433.07 Q1335.52 1424.32 1338.57 1419.74 Q1341.65 1415.13 1347.46 1415.13 Z\" fill=\"#000000\" fill-rule=\"nonzero\" fill-opacity=\"1\" /><polyline clip-path=\"url(#clip850)\" style=\"stroke:#000000; stroke-linecap:round; stroke-linejoin:round; stroke-width:4; stroke-opacity:1; fill:none\" points=\"1383.89,1410.41 1799.35,1050.61 \"/>\n",
              "<polyline clip-path=\"url(#clip850)\" style=\"stroke:#000000; stroke-linecap:round; stroke-linejoin:round; stroke-width:4; stroke-opacity:1; fill:none\" points=\"1395.65,1400.23 1387.01,1397.74 \"/>\n",
              "<polyline clip-path=\"url(#clip850)\" style=\"stroke:#000000; stroke-linecap:round; stroke-linejoin:round; stroke-width:4; stroke-opacity:1; fill:none\" points=\"1493.63,1315.37 1485,1312.88 \"/>\n",
              "<polyline clip-path=\"url(#clip850)\" style=\"stroke:#000000; stroke-linecap:round; stroke-linejoin:round; stroke-width:4; stroke-opacity:1; fill:none\" points=\"1591.62,1230.51 1582.98,1228.02 \"/>\n",
              "<polyline clip-path=\"url(#clip850)\" style=\"stroke:#000000; stroke-linecap:round; stroke-linejoin:round; stroke-width:4; stroke-opacity:1; fill:none\" points=\"1689.61,1145.65 1680.97,1143.16 \"/>\n",
              "<polyline clip-path=\"url(#clip850)\" style=\"stroke:#000000; stroke-linecap:round; stroke-linejoin:round; stroke-width:4; stroke-opacity:1; fill:none\" points=\"1787.59,1060.8 1778.96,1058.3 \"/>\n",
              "<path clip-path=\"url(#clip850)\" d=\"M1419.03 1412.46 Q1415.42 1412.46 1413.6 1416.02 Q1411.79 1419.56 1411.79 1426.69 Q1411.79 1433.8 1413.6 1437.36 Q1415.42 1440.91 1419.03 1440.91 Q1422.67 1440.91 1424.47 1437.36 Q1426.3 1433.8 1426.3 1426.69 Q1426.3 1419.56 1424.47 1416.02 Q1422.67 1412.46 1419.03 1412.46 M1419.03 1408.75 Q1424.85 1408.75 1427.9 1413.36 Q1430.98 1417.94 1430.98 1426.69 Q1430.98 1435.42 1427.9 1440.03 Q1424.85 1444.61 1419.03 1444.61 Q1413.22 1444.61 1410.15 1440.03 Q1407.09 1435.42 1407.09 1426.69 Q1407.09 1417.94 1410.15 1413.36 Q1413.22 1408.75 1419.03 1408.75 Z\" fill=\"#000000\" fill-rule=\"nonzero\" fill-opacity=\"1\" /><path clip-path=\"url(#clip850)\" d=\"M1439.2 1438.06 L1444.08 1438.06 L1444.08 1443.94 L1439.2 1443.94 L1439.2 1438.06 Z\" fill=\"#000000\" fill-rule=\"nonzero\" fill-opacity=\"1\" /><path clip-path=\"url(#clip850)\" d=\"M1464.27 1412.46 Q1460.66 1412.46 1458.83 1416.02 Q1457.02 1419.56 1457.02 1426.69 Q1457.02 1433.8 1458.83 1437.36 Q1460.66 1440.91 1464.27 1440.91 Q1467.9 1440.91 1469.71 1437.36 Q1471.53 1433.8 1471.53 1426.69 Q1471.53 1419.56 1469.71 1416.02 Q1467.9 1412.46 1464.27 1412.46 M1464.27 1408.75 Q1470.08 1408.75 1473.13 1413.36 Q1476.21 1417.94 1476.21 1426.69 Q1476.21 1435.42 1473.13 1440.03 Q1470.08 1444.61 1464.27 1444.61 Q1458.46 1444.61 1455.38 1440.03 Q1452.32 1435.42 1452.32 1426.69 Q1452.32 1417.94 1455.38 1413.36 Q1458.46 1408.75 1464.27 1408.75 Z\" fill=\"#000000\" fill-rule=\"nonzero\" fill-opacity=\"1\" /><path clip-path=\"url(#clip850)\" d=\"M1517.02 1327.6 Q1513.41 1327.6 1511.58 1331.16 Q1509.78 1334.71 1509.78 1341.83 Q1509.78 1348.94 1511.58 1352.51 Q1513.41 1356.05 1517.02 1356.05 Q1520.66 1356.05 1522.46 1352.51 Q1524.29 1348.94 1524.29 1341.83 Q1524.29 1334.71 1522.46 1331.16 Q1520.66 1327.6 1517.02 1327.6 M1517.02 1323.89 Q1522.83 1323.89 1525.89 1328.5 Q1528.97 1333.08 1528.97 1341.83 Q1528.97 1350.56 1525.89 1355.17 Q1522.83 1359.75 1517.02 1359.75 Q1511.21 1359.75 1508.13 1355.17 Q1505.08 1350.56 1505.08 1341.83 Q1505.08 1333.08 1508.13 1328.5 Q1511.21 1323.89 1517.02 1323.89 Z\" fill=\"#000000\" fill-rule=\"nonzero\" fill-opacity=\"1\" /><path clip-path=\"url(#clip850)\" d=\"M1537.18 1353.2 L1542.07 1353.2 L1542.07 1359.08 L1537.18 1359.08 L1537.18 1353.2 Z\" fill=\"#000000\" fill-rule=\"nonzero\" fill-opacity=\"1\" /><path clip-path=\"url(#clip850)\" d=\"M1552.3 1324.52 L1570.66 1324.52 L1570.66 1328.46 L1556.58 1328.46 L1556.58 1336.93 Q1557.6 1336.58 1558.62 1336.42 Q1559.64 1336.23 1560.66 1336.23 Q1566.44 1336.23 1569.82 1339.4 Q1573.2 1342.58 1573.2 1347.99 Q1573.2 1353.57 1569.73 1356.67 Q1566.26 1359.75 1559.94 1359.75 Q1557.76 1359.75 1555.49 1359.38 Q1553.25 1359.01 1550.84 1358.27 L1550.84 1353.57 Q1552.92 1354.7 1555.15 1355.26 Q1557.37 1355.82 1559.85 1355.82 Q1563.85 1355.82 1566.19 1353.71 Q1568.53 1351.6 1568.53 1347.99 Q1568.53 1344.38 1566.19 1342.27 Q1563.85 1340.17 1559.85 1340.17 Q1557.97 1340.17 1556.1 1340.58 Q1554.24 1341 1552.3 1341.88 L1552.3 1324.52 Z\" fill=\"#000000\" fill-rule=\"nonzero\" fill-opacity=\"1\" /><path clip-path=\"url(#clip850)\" d=\"M1603.73 1270.29 L1611.37 1270.29 L1611.37 1243.92 L1603.06 1245.59 L1603.06 1241.33 L1611.33 1239.66 L1616 1239.66 L1616 1270.29 L1623.64 1270.29 L1623.64 1274.22 L1603.73 1274.22 L1603.73 1270.29 Z\" fill=\"#000000\" fill-rule=\"nonzero\" fill-opacity=\"1\" /><path clip-path=\"url(#clip850)\" d=\"M1633.09 1268.34 L1637.97 1268.34 L1637.97 1274.22 L1633.09 1274.22 L1633.09 1268.34 Z\" fill=\"#000000\" fill-rule=\"nonzero\" fill-opacity=\"1\" /><path clip-path=\"url(#clip850)\" d=\"M1658.16 1242.74 Q1654.54 1242.74 1652.72 1246.3 Q1650.91 1249.85 1650.91 1256.98 Q1650.91 1264.08 1652.72 1267.65 Q1654.54 1271.19 1658.16 1271.19 Q1661.79 1271.19 1663.6 1267.65 Q1665.42 1264.08 1665.42 1256.98 Q1665.42 1249.85 1663.6 1246.3 Q1661.79 1242.74 1658.16 1242.74 M1658.16 1239.04 Q1663.97 1239.04 1667.02 1243.64 Q1670.1 1248.23 1670.1 1256.98 Q1670.1 1265.7 1667.02 1270.31 Q1663.97 1274.89 1658.16 1274.89 Q1652.35 1274.89 1649.27 1270.31 Q1646.21 1265.7 1646.21 1256.98 Q1646.21 1248.23 1649.27 1243.64 Q1652.35 1239.04 1658.16 1239.04 Z\" fill=\"#000000\" fill-rule=\"nonzero\" fill-opacity=\"1\" /><path clip-path=\"url(#clip850)\" d=\"M1701.72 1185.43 L1709.36 1185.43 L1709.36 1159.06 L1701.05 1160.73 L1701.05 1156.47 L1709.31 1154.8 L1713.99 1154.8 L1713.99 1185.43 L1721.63 1185.43 L1721.63 1189.36 L1701.72 1189.36 L1701.72 1185.43 Z\" fill=\"#000000\" fill-rule=\"nonzero\" fill-opacity=\"1\" /><path clip-path=\"url(#clip850)\" d=\"M1731.07 1183.48 L1735.96 1183.48 L1735.96 1189.36 L1731.07 1189.36 L1731.07 1183.48 Z\" fill=\"#000000\" fill-rule=\"nonzero\" fill-opacity=\"1\" /><path clip-path=\"url(#clip850)\" d=\"M1746.19 1154.8 L1764.54 1154.8 L1764.54 1158.74 L1750.47 1158.74 L1750.47 1167.21 Q1751.49 1166.86 1752.51 1166.7 Q1753.53 1166.52 1754.54 1166.52 Q1760.33 1166.52 1763.71 1169.69 Q1767.09 1172.86 1767.09 1178.27 Q1767.09 1183.85 1763.62 1186.96 Q1760.15 1190.03 1753.83 1190.03 Q1751.65 1190.03 1749.38 1189.66 Q1747.14 1189.29 1744.73 1188.55 L1744.73 1183.85 Q1746.81 1184.99 1749.04 1185.54 Q1751.26 1186.1 1753.73 1186.1 Q1757.74 1186.1 1760.08 1183.99 Q1762.42 1181.89 1762.42 1178.27 Q1762.42 1174.66 1760.08 1172.56 Q1757.74 1170.45 1753.73 1170.45 Q1751.86 1170.45 1749.98 1170.87 Q1748.13 1171.28 1746.19 1172.16 L1746.19 1154.8 Z\" fill=\"#000000\" fill-rule=\"nonzero\" fill-opacity=\"1\" /><path clip-path=\"url(#clip850)\" d=\"M1804.66 1100.57 L1820.98 1100.57 L1820.98 1104.5 L1799.04 1104.5 L1799.04 1100.57 Q1801.7 1097.81 1806.28 1093.18 Q1810.89 1088.53 1812.07 1087.19 Q1814.31 1084.67 1815.19 1082.93 Q1816.1 1081.17 1816.1 1079.48 Q1816.1 1076.73 1814.15 1074.99 Q1812.23 1073.25 1809.13 1073.25 Q1806.93 1073.25 1804.48 1074.02 Q1802.05 1074.78 1799.27 1076.33 L1799.27 1071.61 Q1802.09 1070.48 1804.55 1069.9 Q1807 1069.32 1809.04 1069.32 Q1814.41 1069.32 1817.6 1072 Q1820.8 1074.69 1820.8 1079.18 Q1820.8 1081.31 1819.99 1083.23 Q1819.2 1085.13 1817.09 1087.72 Q1816.51 1088.39 1813.41 1091.61 Q1810.31 1094.8 1804.66 1100.57 Z\" fill=\"#000000\" fill-rule=\"nonzero\" fill-opacity=\"1\" /><path clip-path=\"url(#clip850)\" d=\"M1830.8 1098.62 L1835.68 1098.62 L1835.68 1104.5 L1830.8 1104.5 L1830.8 1098.62 Z\" fill=\"#000000\" fill-rule=\"nonzero\" fill-opacity=\"1\" /><path clip-path=\"url(#clip850)\" d=\"M1855.86 1073.02 Q1852.25 1073.02 1850.42 1076.59 Q1848.62 1080.13 1848.62 1087.26 Q1848.62 1094.36 1850.42 1097.93 Q1852.25 1101.47 1855.86 1101.47 Q1859.5 1101.47 1861.3 1097.93 Q1863.13 1094.36 1863.13 1087.26 Q1863.13 1080.13 1861.3 1076.59 Q1859.5 1073.02 1855.86 1073.02 M1855.86 1069.32 Q1861.67 1069.32 1864.73 1073.93 Q1867.81 1078.51 1867.81 1087.26 Q1867.81 1095.99 1864.73 1100.59 Q1861.67 1105.18 1855.86 1105.18 Q1850.05 1105.18 1846.98 1100.59 Q1843.92 1095.99 1843.92 1087.26 Q1843.92 1078.51 1846.98 1073.93 Q1850.05 1069.32 1855.86 1069.32 Z\" fill=\"#000000\" fill-rule=\"nonzero\" fill-opacity=\"1\" /><polyline clip-path=\"url(#clip850)\" style=\"stroke:#000000; stroke-linecap:round; stroke-linejoin:round; stroke-width:4; stroke-opacity:1; fill:none\" points=\"664.286,1202.68 664.286,483.08 \"/>\n",
              "<polyline clip-path=\"url(#clip850)\" style=\"stroke:#000000; stroke-linecap:round; stroke-linejoin:round; stroke-width:4; stroke-opacity:1; fill:none\" points=\"664.286,1182.32 669.272,1178 \"/>\n",
              "<polyline clip-path=\"url(#clip850)\" style=\"stroke:#000000; stroke-linecap:round; stroke-linejoin:round; stroke-width:4; stroke-opacity:1; fill:none\" points=\"664.286,956.026 669.272,951.708 \"/>\n",
              "<polyline clip-path=\"url(#clip850)\" style=\"stroke:#000000; stroke-linecap:round; stroke-linejoin:round; stroke-width:4; stroke-opacity:1; fill:none\" points=\"664.286,729.736 669.272,725.418 \"/>\n",
              "<polyline clip-path=\"url(#clip850)\" style=\"stroke:#000000; stroke-linecap:round; stroke-linejoin:round; stroke-width:4; stroke-opacity:1; fill:none\" points=\"664.286,503.446 669.272,499.128 \"/>\n",
              "<path clip-path=\"url(#clip850)\" d=\"M623.542 1168.11 Q619.931 1168.11 618.102 1171.68 Q616.297 1175.22 616.297 1182.35 Q616.297 1189.46 618.102 1193.02 Q619.931 1196.56 623.542 1196.56 Q627.176 1196.56 628.982 1193.02 Q630.81 1189.46 630.81 1182.35 Q630.81 1175.22 628.982 1171.68 Q627.176 1168.11 623.542 1168.11 M623.542 1164.41 Q629.352 1164.41 632.408 1169.02 Q635.486 1173.6 635.486 1182.35 Q635.486 1191.08 632.408 1195.68 Q629.352 1200.27 623.542 1200.27 Q617.732 1200.27 614.653 1195.68 Q611.598 1191.08 611.598 1182.35 Q611.598 1173.6 614.653 1169.02 Q617.732 1164.41 623.542 1164.41 Z\" fill=\"#000000\" fill-rule=\"nonzero\" fill-opacity=\"1\" /><path clip-path=\"url(#clip850)\" d=\"M615.579 969.371 L623.218 969.371 L623.218 943.005 L614.908 944.672 L614.908 940.412 L623.172 938.746 L627.847 938.746 L627.847 969.371 L635.486 969.371 L635.486 973.306 L615.579 973.306 L615.579 969.371 Z\" fill=\"#000000\" fill-rule=\"nonzero\" fill-opacity=\"1\" /><path clip-path=\"url(#clip850)\" d=\"M619.167 743.081 L635.486 743.081 L635.486 747.016 L613.542 747.016 L613.542 743.081 Q616.204 740.326 620.787 735.697 Q625.394 731.044 626.574 729.701 Q628.82 727.178 629.699 725.442 Q630.602 723.683 630.602 721.993 Q630.602 719.238 628.658 717.502 Q626.736 715.766 623.634 715.766 Q621.435 715.766 618.982 716.53 Q616.551 717.294 613.773 718.845 L613.773 714.123 Q616.597 712.988 619.051 712.41 Q621.505 711.831 623.542 711.831 Q628.912 711.831 632.107 714.516 Q635.301 717.201 635.301 721.692 Q635.301 723.822 634.491 725.743 Q633.704 727.641 631.597 730.234 Q631.019 730.905 627.917 734.122 Q624.815 737.317 619.167 743.081 Z\" fill=\"#000000\" fill-rule=\"nonzero\" fill-opacity=\"1\" /><path clip-path=\"url(#clip850)\" d=\"M628.357 502.092 Q631.713 502.809 633.588 505.078 Q635.486 507.346 635.486 510.68 Q635.486 515.795 631.968 518.596 Q628.449 521.397 621.968 521.397 Q619.792 521.397 617.477 520.957 Q615.185 520.541 612.732 519.684 L612.732 515.17 Q614.676 516.305 616.991 516.883 Q619.306 517.462 621.829 517.462 Q626.227 517.462 628.519 515.726 Q630.834 513.99 630.834 510.68 Q630.834 507.624 628.681 505.911 Q626.551 504.175 622.732 504.175 L618.704 504.175 L618.704 500.333 L622.917 500.333 Q626.366 500.333 628.195 498.967 Q630.023 497.578 630.023 494.985 Q630.023 492.323 628.125 490.911 Q626.25 489.476 622.732 489.476 Q620.81 489.476 618.611 489.893 Q616.412 490.31 613.773 491.189 L613.773 487.022 Q616.435 486.282 618.75 485.911 Q621.088 485.541 623.148 485.541 Q628.472 485.541 631.574 487.972 Q634.676 490.379 634.676 494.499 Q634.676 497.37 633.033 499.36 Q631.389 501.328 628.357 502.092 Z\" fill=\"#000000\" fill-rule=\"nonzero\" fill-opacity=\"1\" /><polyline clip-path=\"url(#clip852)\" style=\"stroke:#009af9; stroke-linecap:round; stroke-linejoin:round; stroke-width:8; stroke-opacity:1; fill:none\" points=\"696.411,1178.01 1767.23,355.68 \"/>\n",
              "<path clip-path=\"url(#clip850)\" d=\"M185.61 198.898 L436.957 198.898 L436.957 95.2176 L185.61 95.2176  Z\" fill=\"#ffffff\" fill-rule=\"evenodd\" fill-opacity=\"1\"/>\n",
              "<polyline clip-path=\"url(#clip850)\" style=\"stroke:#000000; stroke-linecap:round; stroke-linejoin:round; stroke-width:4; stroke-opacity:1; fill:none\" points=\"185.61,198.898 436.957,198.898 436.957,95.2176 185.61,95.2176 185.61,198.898 \"/>\n",
              "<polyline clip-path=\"url(#clip850)\" style=\"stroke:#009af9; stroke-linecap:round; stroke-linejoin:round; stroke-width:8; stroke-opacity:1; fill:none\" points=\"210.52,147.058 359.978,147.058 \"/>\n",
              "<path clip-path=\"url(#clip850)\" d=\"M408.779 139.249 Q408.779 140.56 407.959 141.31 Q407.139 142.036 406.202 142.036 Q405.312 142.036 404.844 141.521 Q404.375 141.006 404.375 140.35 Q404.375 139.46 405.031 138.687 Q405.687 137.914 406.671 137.75 Q405.71 137.141 404.282 137.141 Q403.345 137.141 402.525 137.633 Q401.729 138.125 401.237 138.757 Q400.768 139.389 400.347 140.303 Q399.948 141.193 399.785 141.732 Q399.644 142.247 399.527 142.809 L397.887 149.367 Q397.091 152.483 397.091 153.583 Q397.091 154.942 397.747 155.855 Q398.403 156.745 399.714 156.745 Q400.23 156.745 400.815 156.605 Q401.401 156.441 402.15 156.019 Q402.923 155.574 403.602 154.918 Q404.305 154.239 404.984 153.091 Q405.664 151.944 406.109 150.468 Q406.249 149.953 406.718 149.953 Q407.303 149.953 407.303 150.421 Q407.303 150.82 406.975 151.663 Q406.671 152.483 405.991 153.56 Q405.336 154.614 404.469 155.574 Q403.602 156.511 402.314 157.167 Q401.026 157.823 399.621 157.823 Q397.606 157.823 396.271 156.745 Q394.936 155.668 394.444 154.169 Q394.327 154.38 394.163 154.661 Q393.999 154.942 393.507 155.574 Q393.039 156.183 392.5 156.652 Q391.961 157.097 391.118 157.448 Q390.298 157.823 389.408 157.823 Q388.284 157.823 387.277 157.495 Q386.293 157.167 385.591 156.417 Q384.888 155.668 384.888 154.637 Q384.888 153.49 385.661 152.693 Q386.457 151.874 387.535 151.874 Q388.214 151.874 388.753 152.272 Q389.315 152.67 389.315 153.537 Q389.315 154.497 388.659 155.223 Q388.003 155.949 387.066 156.136 Q388.026 156.745 389.455 156.745 Q391.001 156.745 392.219 155.387 Q393.437 154.028 394.023 151.756 Q395.475 146.299 396.037 143.863 Q396.599 141.404 396.599 140.35 Q396.599 139.366 396.341 138.687 Q396.084 138.007 395.639 137.703 Q395.217 137.375 394.819 137.258 Q394.444 137.141 394.023 137.141 Q393.32 137.141 392.524 137.422 Q391.751 137.703 390.814 138.359 Q389.9 138.991 389.034 140.303 Q388.167 141.615 387.581 143.418 Q387.464 143.957 386.949 143.957 Q386.387 143.933 386.387 143.465 Q386.387 143.067 386.691 142.247 Q387.019 141.404 387.675 140.35 Q388.354 139.296 389.221 138.359 Q390.111 137.398 391.399 136.743 Q392.711 136.087 394.116 136.087 Q394.749 136.087 395.358 136.227 Q395.99 136.344 396.74 136.696 Q397.513 137.047 398.192 137.82 Q398.871 138.593 399.293 139.717 Q399.574 139.179 399.948 138.663 Q400.347 138.148 400.956 137.516 Q401.588 136.86 402.455 136.485 Q403.345 136.087 404.328 136.087 Q405.289 136.087 406.226 136.344 Q407.163 136.579 407.959 137.352 Q408.779 138.101 408.779 139.249 Z\" fill=\"#000000\" fill-rule=\"nonzero\" fill-opacity=\"1\" /></svg>\n"
            ],
            "image/svg+xml": "<?xml version=\"1.0\" encoding=\"utf-8\"?>\n<svg xmlns=\"http://www.w3.org/2000/svg\" xmlns:xlink=\"http://www.w3.org/1999/xlink\" width=\"600\" height=\"400\" viewBox=\"0 0 2400 1600\">\n<defs>\n  <clipPath id=\"clip800\">\n    <rect x=\"0\" y=\"0\" width=\"2400\" height=\"1600\"/>\n  </clipPath>\n</defs>\n<path clip-path=\"url(#clip800)\" d=\"M0 1600 L2400 1600 L2400 0 L0 0  Z\" fill=\"#ffffff\" fill-rule=\"evenodd\" fill-opacity=\"1\"/>\n<defs>\n  <clipPath id=\"clip801\">\n    <rect x=\"480\" y=\"0\" width=\"1681\" height=\"1600\"/>\n  </clipPath>\n</defs>\n<defs>\n  <clipPath id=\"clip802\">\n    <rect x=\"110\" y=\"47\" width=\"2243\" height=\"1440\"/>\n  </clipPath>\n</defs>\n<path clip-path=\"url(#clip802)\" d=\"M-896.485 1856.88 L-896.485 1178.01 L-112.594 838.577 L1245.15 1034.55 L1245.15 1713.42 L461.254 2052.85 L-896.485 1856.88  Z\" fill=\"#ffffff\" fill-rule=\"evenodd\" fill-opacity=\"1\"/>\n<polyline clip-path=\"url(#clip802)\" style=\"stroke:#000000; stroke-linecap:round; stroke-linejoin:round; stroke-width:2; stroke-opacity:0.1; fill:none\" points=\"684.652,1208.56 1100.11,848.76 1100.11,129.158 \"/>\n<polyline clip-path=\"url(#clip802)\" style=\"stroke:#000000; stroke-linecap:round; stroke-linejoin:round; stroke-width:2; stroke-opacity:0.1; fill:none\" points=\"854.37,1257.55 1269.83,897.753 1269.83,178.151 \"/>\n<polyline clip-path=\"url(#clip802)\" style=\"stroke:#000000; stroke-linecap:round; stroke-linejoin:round; stroke-width:2; stroke-opacity:0.1; fill:none\" points=\"1024.09,1306.55 1439.55,946.746 1439.55,227.145 \"/>\n<polyline clip-path=\"url(#clip802)\" style=\"stroke:#000000; stroke-linecap:round; stroke-linejoin:round; stroke-width:2; stroke-opacity:0.1; fill:none\" points=\"1193.8,1355.54 1609.27,995.74 1609.27,276.138 \"/>\n<polyline clip-path=\"url(#clip802)\" style=\"stroke:#000000; stroke-linecap:round; stroke-linejoin:round; stroke-width:2; stroke-opacity:0.1; fill:none\" points=\"1363.52,1404.53 1778.98,1044.73 1778.98,325.131 \"/>\n<polyline clip-path=\"url(#clip802)\" style=\"stroke:#000000; stroke-linecap:round; stroke-linejoin:round; stroke-width:2; stroke-opacity:0.1; fill:none\" points=\"1395.65,1400.23 676.045,1192.5 676.045,472.897 \"/>\n<polyline clip-path=\"url(#clip802)\" style=\"stroke:#000000; stroke-linecap:round; stroke-linejoin:round; stroke-width:2; stroke-opacity:0.1; fill:none\" points=\"1493.63,1315.37 774.031,1107.64 774.031,388.038 \"/>\n<polyline clip-path=\"url(#clip802)\" style=\"stroke:#000000; stroke-linecap:round; stroke-linejoin:round; stroke-width:2; stroke-opacity:0.1; fill:none\" points=\"1591.62,1230.51 872.017,1022.78 872.017,303.179 \"/>\n<polyline clip-path=\"url(#clip802)\" style=\"stroke:#000000; stroke-linecap:round; stroke-linejoin:round; stroke-width:2; stroke-opacity:0.1; fill:none\" points=\"1689.61,1145.65 970.004,937.923 970.004,218.321 \"/>\n<polyline clip-path=\"url(#clip802)\" style=\"stroke:#000000; stroke-linecap:round; stroke-linejoin:round; stroke-width:2; stroke-opacity:0.1; fill:none\" points=\"1787.59,1060.8 1067.99,853.064 1067.99,133.462 \"/>\n<polyline clip-path=\"url(#clip802)\" style=\"stroke:#000000; stroke-linecap:round; stroke-linejoin:round; stroke-width:2; stroke-opacity:0.1; fill:none\" points=\"664.286,1182.32 1079.75,822.515 1799.35,1030.25 \"/>\n<polyline clip-path=\"url(#clip802)\" style=\"stroke:#000000; stroke-linecap:round; stroke-linejoin:round; stroke-width:2; stroke-opacity:0.1; fill:none\" points=\"664.286,956.026 1079.75,596.225 1799.35,803.956 \"/>\n<polyline clip-path=\"url(#clip802)\" style=\"stroke:#000000; stroke-linecap:round; stroke-linejoin:round; stroke-width:2; stroke-opacity:0.1; fill:none\" points=\"664.286,729.736 1079.75,369.935 1799.35,577.666 \"/>\n<polyline clip-path=\"url(#clip802)\" style=\"stroke:#000000; stroke-linecap:round; stroke-linejoin:round; stroke-width:2; stroke-opacity:0.1; fill:none\" points=\"664.286,503.446 1079.75,143.645 1799.35,351.376 \"/>\n<polyline clip-path=\"url(#clip800)\" style=\"stroke:#000000; stroke-linecap:round; stroke-linejoin:round; stroke-width:4; stroke-opacity:1; fill:none\" points=\"664.286,1202.68 1383.89,1410.41 \"/>\n<polyline clip-path=\"url(#clip800)\" style=\"stroke:#000000; stroke-linecap:round; stroke-linejoin:round; stroke-width:4; stroke-opacity:1; fill:none\" points=\"684.652,1208.56 689.638,1204.24 \"/>\n<polyline clip-path=\"url(#clip800)\" style=\"stroke:#000000; stroke-linecap:round; stroke-linejoin:round; stroke-width:4; stroke-opacity:1; fill:none\" points=\"854.37,1257.55 859.355,1253.24 \"/>\n<polyline clip-path=\"url(#clip800)\" style=\"stroke:#000000; stroke-linecap:round; stroke-linejoin:round; stroke-width:4; stroke-opacity:1; fill:none\" points=\"1024.09,1306.55 1029.07,1302.23 \"/>\n<polyline clip-path=\"url(#clip800)\" style=\"stroke:#000000; stroke-linecap:round; stroke-linejoin:round; stroke-width:4; stroke-opacity:1; fill:none\" points=\"1193.8,1355.54 1198.79,1351.22 \"/>\n<polyline clip-path=\"url(#clip800)\" style=\"stroke:#000000; stroke-linecap:round; stroke-linejoin:round; stroke-width:4; stroke-opacity:1; fill:none\" points=\"1363.52,1404.53 1368.51,1400.22 \"/>\n<path clip-path=\"url(#clip800)\" d=\"M593.201 1222.86 Q589.589 1222.86 587.761 1226.43 Q585.955 1229.97 585.955 1237.1 Q585.955 1244.21 587.761 1247.77 Q589.589 1251.31 593.201 1251.31 Q596.835 1251.31 598.64 1247.77 Q600.469 1244.21 600.469 1237.1 Q600.469 1229.97 598.64 1226.43 Q596.835 1222.86 593.201 1222.86 M593.201 1219.16 Q599.011 1219.16 602.066 1223.77 Q605.145 1228.35 605.145 1237.1 Q605.145 1245.83 602.066 1250.43 Q599.011 1255.02 593.201 1255.02 Q587.39 1255.02 584.312 1250.43 Q581.256 1245.83 581.256 1237.1 Q581.256 1228.35 584.312 1223.77 Q587.39 1219.16 593.201 1219.16 Z\" fill=\"#000000\" fill-rule=\"nonzero\" fill-opacity=\"1\" /><path clip-path=\"url(#clip800)\" d=\"M613.363 1248.47 L618.247 1248.47 L618.247 1254.35 L613.363 1254.35 L613.363 1248.47 Z\" fill=\"#000000\" fill-rule=\"nonzero\" fill-opacity=\"1\" /><path clip-path=\"url(#clip800)\" d=\"M638.432 1222.86 Q634.821 1222.86 632.992 1226.43 Q631.186 1229.97 631.186 1237.1 Q631.186 1244.21 632.992 1247.77 Q634.821 1251.31 638.432 1251.31 Q642.066 1251.31 643.872 1247.77 Q645.7 1244.21 645.7 1237.1 Q645.7 1229.97 643.872 1226.43 Q642.066 1222.86 638.432 1222.86 M638.432 1219.16 Q644.242 1219.16 647.298 1223.77 Q650.376 1228.35 650.376 1237.1 Q650.376 1245.83 647.298 1250.43 Q644.242 1255.02 638.432 1255.02 Q632.622 1255.02 629.543 1250.43 Q626.487 1245.83 626.487 1237.1 Q626.487 1228.35 629.543 1223.77 Q632.622 1219.16 638.432 1219.16 Z\" fill=\"#000000\" fill-rule=\"nonzero\" fill-opacity=\"1\" /><path clip-path=\"url(#clip800)\" d=\"M668.594 1222.86 Q664.983 1222.86 663.154 1226.43 Q661.348 1229.97 661.348 1237.1 Q661.348 1244.21 663.154 1247.77 Q664.983 1251.31 668.594 1251.31 Q672.228 1251.31 674.033 1247.77 Q675.862 1244.21 675.862 1237.1 Q675.862 1229.97 674.033 1226.43 Q672.228 1222.86 668.594 1222.86 M668.594 1219.16 Q674.404 1219.16 677.459 1223.77 Q680.538 1228.35 680.538 1237.1 Q680.538 1245.83 677.459 1250.43 Q674.404 1255.02 668.594 1255.02 Q662.784 1255.02 659.705 1250.43 Q656.649 1245.83 656.649 1237.1 Q656.649 1228.35 659.705 1223.77 Q662.784 1219.16 668.594 1219.16 Z\" fill=\"#000000\" fill-rule=\"nonzero\" fill-opacity=\"1\" /><path clip-path=\"url(#clip800)\" d=\"M763.913 1271.86 Q760.302 1271.86 758.474 1275.42 Q756.668 1278.96 756.668 1286.09 Q756.668 1293.2 758.474 1296.76 Q760.302 1300.31 763.913 1300.31 Q767.548 1300.31 769.353 1296.76 Q771.182 1293.2 771.182 1286.09 Q771.182 1278.96 769.353 1275.42 Q767.548 1271.86 763.913 1271.86 M763.913 1268.15 Q769.724 1268.15 772.779 1272.76 Q775.858 1277.34 775.858 1286.09 Q775.858 1294.82 772.779 1299.43 Q769.724 1304.01 763.913 1304.01 Q758.103 1304.01 755.025 1299.43 Q751.969 1294.82 751.969 1286.09 Q751.969 1277.34 755.025 1272.76 Q758.103 1268.15 763.913 1268.15 Z\" fill=\"#000000\" fill-rule=\"nonzero\" fill-opacity=\"1\" /><path clip-path=\"url(#clip800)\" d=\"M784.075 1297.46 L788.96 1297.46 L788.96 1303.34 L784.075 1303.34 L784.075 1297.46 Z\" fill=\"#000000\" fill-rule=\"nonzero\" fill-opacity=\"1\" /><path clip-path=\"url(#clip800)\" d=\"M803.172 1299.4 L819.492 1299.4 L819.492 1303.34 L797.547 1303.34 L797.547 1299.4 Q800.209 1296.65 804.793 1292.02 Q809.399 1287.37 810.58 1286.02 Q812.825 1283.5 813.705 1281.76 Q814.608 1280.01 814.608 1278.32 Q814.608 1275.56 812.663 1273.83 Q810.742 1272.09 807.64 1272.09 Q805.441 1272.09 802.987 1272.85 Q800.557 1273.62 797.779 1275.17 L797.779 1270.45 Q800.603 1269.31 803.057 1268.73 Q805.51 1268.15 807.547 1268.15 Q812.918 1268.15 816.112 1270.84 Q819.307 1273.52 819.307 1278.01 Q819.307 1280.14 818.496 1282.07 Q817.709 1283.96 815.603 1286.56 Q815.024 1287.23 811.922 1290.45 Q808.821 1293.64 803.172 1299.4 Z\" fill=\"#000000\" fill-rule=\"nonzero\" fill-opacity=\"1\" /><path clip-path=\"url(#clip800)\" d=\"M829.353 1268.78 L847.709 1268.78 L847.709 1272.71 L833.635 1272.71 L833.635 1281.19 Q834.654 1280.84 835.672 1280.68 Q836.691 1280.49 837.709 1280.49 Q843.496 1280.49 846.876 1283.66 Q850.256 1286.83 850.256 1292.25 Q850.256 1297.83 846.783 1300.93 Q843.311 1304.01 836.992 1304.01 Q834.816 1304.01 832.547 1303.64 Q830.302 1303.27 827.895 1302.53 L827.895 1297.83 Q829.978 1298.96 832.2 1299.52 Q834.422 1300.07 836.899 1300.07 Q840.904 1300.07 843.242 1297.97 Q845.58 1295.86 845.58 1292.25 Q845.58 1288.64 843.242 1286.53 Q840.904 1284.43 836.899 1284.43 Q835.024 1284.43 833.149 1284.84 Q831.297 1285.26 829.353 1286.14 L829.353 1268.78 Z\" fill=\"#000000\" fill-rule=\"nonzero\" fill-opacity=\"1\" /><path clip-path=\"url(#clip800)\" d=\"M932.635 1320.85 Q929.024 1320.85 927.196 1324.42 Q925.39 1327.96 925.39 1335.09 Q925.39 1342.19 927.196 1345.76 Q929.024 1349.3 932.635 1349.3 Q936.27 1349.3 938.075 1345.76 Q939.904 1342.19 939.904 1335.09 Q939.904 1327.96 938.075 1324.42 Q936.27 1320.85 932.635 1320.85 M932.635 1317.15 Q938.446 1317.15 941.501 1321.75 Q944.58 1326.34 944.58 1335.09 Q944.58 1343.81 941.501 1348.42 Q938.446 1353 932.635 1353 Q926.825 1353 923.747 1348.42 Q920.691 1343.81 920.691 1335.09 Q920.691 1326.34 923.747 1321.75 Q926.825 1317.15 932.635 1317.15 Z\" fill=\"#000000\" fill-rule=\"nonzero\" fill-opacity=\"1\" /><path clip-path=\"url(#clip800)\" d=\"M952.797 1346.45 L957.682 1346.45 L957.682 1352.33 L952.797 1352.33 L952.797 1346.45 Z\" fill=\"#000000\" fill-rule=\"nonzero\" fill-opacity=\"1\" /><path clip-path=\"url(#clip800)\" d=\"M967.913 1317.77 L986.269 1317.77 L986.269 1321.71 L972.195 1321.71 L972.195 1330.18 Q973.214 1329.83 974.232 1329.67 Q975.251 1329.48 976.269 1329.48 Q982.056 1329.48 985.436 1332.66 Q988.816 1335.83 988.816 1341.24 Q988.816 1346.82 985.343 1349.92 Q981.871 1353 975.552 1353 Q973.376 1353 971.107 1352.63 Q968.862 1352.26 966.455 1351.52 L966.455 1346.82 Q968.538 1347.96 970.76 1348.51 Q972.982 1349.07 975.459 1349.07 Q979.464 1349.07 981.802 1346.96 Q984.14 1344.86 984.14 1341.24 Q984.14 1337.63 981.802 1335.53 Q979.464 1333.42 975.459 1333.42 Q973.584 1333.42 971.709 1333.84 Q969.857 1334.25 967.913 1335.13 L967.913 1317.77 Z\" fill=\"#000000\" fill-rule=\"nonzero\" fill-opacity=\"1\" /><path clip-path=\"url(#clip800)\" d=\"M1008.03 1320.85 Q1004.42 1320.85 1002.59 1324.42 Q1000.78 1327.96 1000.78 1335.09 Q1000.78 1342.19 1002.59 1345.76 Q1004.42 1349.3 1008.03 1349.3 Q1011.66 1349.3 1013.47 1345.76 Q1015.3 1342.19 1015.3 1335.09 Q1015.3 1327.96 1013.47 1324.42 Q1011.66 1320.85 1008.03 1320.85 M1008.03 1317.15 Q1013.84 1317.15 1016.89 1321.75 Q1019.97 1326.34 1019.97 1335.09 Q1019.97 1343.81 1016.89 1348.42 Q1013.84 1353 1008.03 1353 Q1002.22 1353 999.14 1348.42 Q996.084 1343.81 996.084 1335.09 Q996.084 1326.34 999.14 1321.75 Q1002.22 1317.15 1008.03 1317.15 Z\" fill=\"#000000\" fill-rule=\"nonzero\" fill-opacity=\"1\" /><path clip-path=\"url(#clip800)\" d=\"M1103.35 1369.84 Q1099.74 1369.84 1097.91 1373.41 Q1096.1 1376.95 1096.1 1384.08 Q1096.1 1391.19 1097.91 1394.75 Q1099.74 1398.29 1103.35 1398.29 Q1106.98 1398.29 1108.79 1394.75 Q1110.62 1391.19 1110.62 1384.08 Q1110.62 1376.95 1108.79 1373.41 Q1106.98 1369.84 1103.35 1369.84 M1103.35 1366.14 Q1109.16 1366.14 1112.21 1370.75 Q1115.29 1375.33 1115.29 1384.08 Q1115.29 1392.81 1112.21 1397.41 Q1109.16 1402 1103.35 1402 Q1097.54 1402 1094.46 1397.41 Q1091.4 1392.81 1091.4 1384.08 Q1091.4 1375.33 1094.46 1370.75 Q1097.54 1366.14 1103.35 1366.14 Z\" fill=\"#000000\" fill-rule=\"nonzero\" fill-opacity=\"1\" /><path clip-path=\"url(#clip800)\" d=\"M1123.51 1395.45 L1128.39 1395.45 L1128.39 1401.33 L1123.51 1401.33 L1123.51 1395.45 Z\" fill=\"#000000\" fill-rule=\"nonzero\" fill-opacity=\"1\" /><path clip-path=\"url(#clip800)\" d=\"M1137.4 1366.77 L1159.62 1366.77 L1159.62 1368.76 L1147.07 1401.33 L1142.19 1401.33 L1154 1370.7 L1137.4 1370.7 L1137.4 1366.77 Z\" fill=\"#000000\" fill-rule=\"nonzero\" fill-opacity=\"1\" /><path clip-path=\"url(#clip800)\" d=\"M1168.79 1366.77 L1187.14 1366.77 L1187.14 1370.7 L1173.07 1370.7 L1173.07 1379.17 Q1174.09 1378.83 1175.11 1378.66 Q1176.13 1378.48 1177.14 1378.48 Q1182.93 1378.48 1186.31 1381.65 Q1189.69 1384.82 1189.69 1390.24 Q1189.69 1395.82 1186.22 1398.92 Q1182.75 1402 1176.43 1402 Q1174.25 1402 1171.98 1401.63 Q1169.74 1401.26 1167.33 1400.52 L1167.33 1395.82 Q1169.41 1396.95 1171.63 1397.51 Q1173.86 1398.06 1176.33 1398.06 Q1180.34 1398.06 1182.68 1395.95 Q1185.01 1393.85 1185.01 1390.24 Q1185.01 1386.63 1182.68 1384.52 Q1180.34 1382.41 1176.33 1382.41 Q1174.46 1382.41 1172.58 1382.83 Q1170.73 1383.25 1168.79 1384.13 L1168.79 1366.77 Z\" fill=\"#000000\" fill-rule=\"nonzero\" fill-opacity=\"1\" /><path clip-path=\"url(#clip800)\" d=\"M1262.88 1446.38 L1270.52 1446.38 L1270.52 1420.02 L1262.21 1421.68 L1262.21 1417.43 L1270.47 1415.76 L1275.15 1415.76 L1275.15 1446.38 L1282.79 1446.38 L1282.79 1450.32 L1262.88 1450.32 L1262.88 1446.38 Z\" fill=\"#000000\" fill-rule=\"nonzero\" fill-opacity=\"1\" /><path clip-path=\"url(#clip800)\" d=\"M1292.23 1444.44 L1297.12 1444.44 L1297.12 1450.32 L1292.23 1450.32 L1292.23 1444.44 Z\" fill=\"#000000\" fill-rule=\"nonzero\" fill-opacity=\"1\" /><path clip-path=\"url(#clip800)\" d=\"M1317.3 1418.84 Q1313.69 1418.84 1311.86 1422.4 Q1310.06 1425.94 1310.06 1433.07 Q1310.06 1440.18 1311.86 1443.74 Q1313.69 1447.29 1317.3 1447.29 Q1320.94 1447.29 1322.74 1443.74 Q1324.57 1440.18 1324.57 1433.07 Q1324.57 1425.94 1322.74 1422.4 Q1320.94 1418.84 1317.3 1418.84 M1317.3 1415.13 Q1323.11 1415.13 1326.17 1419.74 Q1329.25 1424.32 1329.25 1433.07 Q1329.25 1441.8 1326.17 1446.41 Q1323.11 1450.99 1317.3 1450.99 Q1311.49 1450.99 1308.41 1446.41 Q1305.36 1441.8 1305.36 1433.07 Q1305.36 1424.32 1308.41 1419.74 Q1311.49 1415.13 1317.3 1415.13 Z\" fill=\"#000000\" fill-rule=\"nonzero\" fill-opacity=\"1\" /><path clip-path=\"url(#clip800)\" d=\"M1347.46 1418.84 Q1343.85 1418.84 1342.02 1422.4 Q1340.22 1425.94 1340.22 1433.07 Q1340.22 1440.18 1342.02 1443.74 Q1343.85 1447.29 1347.46 1447.29 Q1351.1 1447.29 1352.9 1443.74 Q1354.73 1440.18 1354.73 1433.07 Q1354.73 1425.94 1352.9 1422.4 Q1351.1 1418.84 1347.46 1418.84 M1347.46 1415.13 Q1353.27 1415.13 1356.33 1419.74 Q1359.41 1424.32 1359.41 1433.07 Q1359.41 1441.8 1356.33 1446.41 Q1353.27 1450.99 1347.46 1450.99 Q1341.65 1450.99 1338.57 1446.41 Q1335.52 1441.8 1335.52 1433.07 Q1335.52 1424.32 1338.57 1419.74 Q1341.65 1415.13 1347.46 1415.13 Z\" fill=\"#000000\" fill-rule=\"nonzero\" fill-opacity=\"1\" /><polyline clip-path=\"url(#clip800)\" style=\"stroke:#000000; stroke-linecap:round; stroke-linejoin:round; stroke-width:4; stroke-opacity:1; fill:none\" points=\"1383.89,1410.41 1799.35,1050.61 \"/>\n<polyline clip-path=\"url(#clip800)\" style=\"stroke:#000000; stroke-linecap:round; stroke-linejoin:round; stroke-width:4; stroke-opacity:1; fill:none\" points=\"1395.65,1400.23 1387.01,1397.74 \"/>\n<polyline clip-path=\"url(#clip800)\" style=\"stroke:#000000; stroke-linecap:round; stroke-linejoin:round; stroke-width:4; stroke-opacity:1; fill:none\" points=\"1493.63,1315.37 1485,1312.88 \"/>\n<polyline clip-path=\"url(#clip800)\" style=\"stroke:#000000; stroke-linecap:round; stroke-linejoin:round; stroke-width:4; stroke-opacity:1; fill:none\" points=\"1591.62,1230.51 1582.98,1228.02 \"/>\n<polyline clip-path=\"url(#clip800)\" style=\"stroke:#000000; stroke-linecap:round; stroke-linejoin:round; stroke-width:4; stroke-opacity:1; fill:none\" points=\"1689.61,1145.65 1680.97,1143.16 \"/>\n<polyline clip-path=\"url(#clip800)\" style=\"stroke:#000000; stroke-linecap:round; stroke-linejoin:round; stroke-width:4; stroke-opacity:1; fill:none\" points=\"1787.59,1060.8 1778.96,1058.3 \"/>\n<path clip-path=\"url(#clip800)\" d=\"M1419.03 1412.46 Q1415.42 1412.46 1413.6 1416.02 Q1411.79 1419.56 1411.79 1426.69 Q1411.79 1433.8 1413.6 1437.36 Q1415.42 1440.91 1419.03 1440.91 Q1422.67 1440.91 1424.47 1437.36 Q1426.3 1433.8 1426.3 1426.69 Q1426.3 1419.56 1424.47 1416.02 Q1422.67 1412.46 1419.03 1412.46 M1419.03 1408.75 Q1424.85 1408.75 1427.9 1413.36 Q1430.98 1417.94 1430.98 1426.69 Q1430.98 1435.42 1427.9 1440.03 Q1424.85 1444.61 1419.03 1444.61 Q1413.22 1444.61 1410.15 1440.03 Q1407.09 1435.42 1407.09 1426.69 Q1407.09 1417.94 1410.15 1413.36 Q1413.22 1408.75 1419.03 1408.75 Z\" fill=\"#000000\" fill-rule=\"nonzero\" fill-opacity=\"1\" /><path clip-path=\"url(#clip800)\" d=\"M1439.2 1438.06 L1444.08 1438.06 L1444.08 1443.94 L1439.2 1443.94 L1439.2 1438.06 Z\" fill=\"#000000\" fill-rule=\"nonzero\" fill-opacity=\"1\" /><path clip-path=\"url(#clip800)\" d=\"M1464.27 1412.46 Q1460.66 1412.46 1458.83 1416.02 Q1457.02 1419.56 1457.02 1426.69 Q1457.02 1433.8 1458.83 1437.36 Q1460.66 1440.91 1464.27 1440.91 Q1467.9 1440.91 1469.71 1437.36 Q1471.53 1433.8 1471.53 1426.69 Q1471.53 1419.56 1469.71 1416.02 Q1467.9 1412.46 1464.27 1412.46 M1464.27 1408.75 Q1470.08 1408.75 1473.13 1413.36 Q1476.21 1417.94 1476.21 1426.69 Q1476.21 1435.42 1473.13 1440.03 Q1470.08 1444.61 1464.27 1444.61 Q1458.46 1444.61 1455.38 1440.03 Q1452.32 1435.42 1452.32 1426.69 Q1452.32 1417.94 1455.38 1413.36 Q1458.46 1408.75 1464.27 1408.75 Z\" fill=\"#000000\" fill-rule=\"nonzero\" fill-opacity=\"1\" /><path clip-path=\"url(#clip800)\" d=\"M1517.02 1327.6 Q1513.41 1327.6 1511.58 1331.16 Q1509.78 1334.71 1509.78 1341.83 Q1509.78 1348.94 1511.58 1352.51 Q1513.41 1356.05 1517.02 1356.05 Q1520.66 1356.05 1522.46 1352.51 Q1524.29 1348.94 1524.29 1341.83 Q1524.29 1334.71 1522.46 1331.16 Q1520.66 1327.6 1517.02 1327.6 M1517.02 1323.89 Q1522.83 1323.89 1525.89 1328.5 Q1528.97 1333.08 1528.97 1341.83 Q1528.97 1350.56 1525.89 1355.17 Q1522.83 1359.75 1517.02 1359.75 Q1511.21 1359.75 1508.13 1355.17 Q1505.08 1350.56 1505.08 1341.83 Q1505.08 1333.08 1508.13 1328.5 Q1511.21 1323.89 1517.02 1323.89 Z\" fill=\"#000000\" fill-rule=\"nonzero\" fill-opacity=\"1\" /><path clip-path=\"url(#clip800)\" d=\"M1537.18 1353.2 L1542.07 1353.2 L1542.07 1359.08 L1537.18 1359.08 L1537.18 1353.2 Z\" fill=\"#000000\" fill-rule=\"nonzero\" fill-opacity=\"1\" /><path clip-path=\"url(#clip800)\" d=\"M1552.3 1324.52 L1570.66 1324.52 L1570.66 1328.46 L1556.58 1328.46 L1556.58 1336.93 Q1557.6 1336.58 1558.62 1336.42 Q1559.64 1336.23 1560.66 1336.23 Q1566.44 1336.23 1569.82 1339.4 Q1573.2 1342.58 1573.2 1347.99 Q1573.2 1353.57 1569.73 1356.67 Q1566.26 1359.75 1559.94 1359.75 Q1557.76 1359.75 1555.49 1359.38 Q1553.25 1359.01 1550.84 1358.27 L1550.84 1353.57 Q1552.92 1354.7 1555.15 1355.26 Q1557.37 1355.82 1559.85 1355.82 Q1563.85 1355.82 1566.19 1353.71 Q1568.53 1351.6 1568.53 1347.99 Q1568.53 1344.38 1566.19 1342.27 Q1563.85 1340.17 1559.85 1340.17 Q1557.97 1340.17 1556.1 1340.58 Q1554.24 1341 1552.3 1341.88 L1552.3 1324.52 Z\" fill=\"#000000\" fill-rule=\"nonzero\" fill-opacity=\"1\" /><path clip-path=\"url(#clip800)\" d=\"M1603.73 1270.29 L1611.37 1270.29 L1611.37 1243.92 L1603.06 1245.59 L1603.06 1241.33 L1611.33 1239.66 L1616 1239.66 L1616 1270.29 L1623.64 1270.29 L1623.64 1274.22 L1603.73 1274.22 L1603.73 1270.29 Z\" fill=\"#000000\" fill-rule=\"nonzero\" fill-opacity=\"1\" /><path clip-path=\"url(#clip800)\" d=\"M1633.09 1268.34 L1637.97 1268.34 L1637.97 1274.22 L1633.09 1274.22 L1633.09 1268.34 Z\" fill=\"#000000\" fill-rule=\"nonzero\" fill-opacity=\"1\" /><path clip-path=\"url(#clip800)\" d=\"M1658.16 1242.74 Q1654.54 1242.74 1652.72 1246.3 Q1650.91 1249.85 1650.91 1256.98 Q1650.91 1264.08 1652.72 1267.65 Q1654.54 1271.19 1658.16 1271.19 Q1661.79 1271.19 1663.6 1267.65 Q1665.42 1264.08 1665.42 1256.98 Q1665.42 1249.85 1663.6 1246.3 Q1661.79 1242.74 1658.16 1242.74 M1658.16 1239.04 Q1663.97 1239.04 1667.02 1243.64 Q1670.1 1248.23 1670.1 1256.98 Q1670.1 1265.7 1667.02 1270.31 Q1663.97 1274.89 1658.16 1274.89 Q1652.35 1274.89 1649.27 1270.31 Q1646.21 1265.7 1646.21 1256.98 Q1646.21 1248.23 1649.27 1243.64 Q1652.35 1239.04 1658.16 1239.04 Z\" fill=\"#000000\" fill-rule=\"nonzero\" fill-opacity=\"1\" /><path clip-path=\"url(#clip800)\" d=\"M1701.72 1185.43 L1709.36 1185.43 L1709.36 1159.06 L1701.05 1160.73 L1701.05 1156.47 L1709.31 1154.8 L1713.99 1154.8 L1713.99 1185.43 L1721.63 1185.43 L1721.63 1189.36 L1701.72 1189.36 L1701.72 1185.43 Z\" fill=\"#000000\" fill-rule=\"nonzero\" fill-opacity=\"1\" /><path clip-path=\"url(#clip800)\" d=\"M1731.07 1183.48 L1735.96 1183.48 L1735.96 1189.36 L1731.07 1189.36 L1731.07 1183.48 Z\" fill=\"#000000\" fill-rule=\"nonzero\" fill-opacity=\"1\" /><path clip-path=\"url(#clip800)\" d=\"M1746.19 1154.8 L1764.54 1154.8 L1764.54 1158.74 L1750.47 1158.74 L1750.47 1167.21 Q1751.49 1166.86 1752.51 1166.7 Q1753.53 1166.52 1754.54 1166.52 Q1760.33 1166.52 1763.71 1169.69 Q1767.09 1172.86 1767.09 1178.27 Q1767.09 1183.85 1763.62 1186.96 Q1760.15 1190.03 1753.83 1190.03 Q1751.65 1190.03 1749.38 1189.66 Q1747.14 1189.29 1744.73 1188.55 L1744.73 1183.85 Q1746.81 1184.99 1749.04 1185.54 Q1751.26 1186.1 1753.73 1186.1 Q1757.74 1186.1 1760.08 1183.99 Q1762.42 1181.89 1762.42 1178.27 Q1762.42 1174.66 1760.08 1172.56 Q1757.74 1170.45 1753.73 1170.45 Q1751.86 1170.45 1749.98 1170.87 Q1748.13 1171.28 1746.19 1172.16 L1746.19 1154.8 Z\" fill=\"#000000\" fill-rule=\"nonzero\" fill-opacity=\"1\" /><path clip-path=\"url(#clip800)\" d=\"M1804.66 1100.57 L1820.98 1100.57 L1820.98 1104.5 L1799.04 1104.5 L1799.04 1100.57 Q1801.7 1097.81 1806.28 1093.18 Q1810.89 1088.53 1812.07 1087.19 Q1814.31 1084.67 1815.19 1082.93 Q1816.1 1081.17 1816.1 1079.48 Q1816.1 1076.73 1814.15 1074.99 Q1812.23 1073.25 1809.13 1073.25 Q1806.93 1073.25 1804.48 1074.02 Q1802.05 1074.78 1799.27 1076.33 L1799.27 1071.61 Q1802.09 1070.48 1804.55 1069.9 Q1807 1069.32 1809.04 1069.32 Q1814.41 1069.32 1817.6 1072 Q1820.8 1074.69 1820.8 1079.18 Q1820.8 1081.31 1819.99 1083.23 Q1819.2 1085.13 1817.09 1087.72 Q1816.51 1088.39 1813.41 1091.61 Q1810.31 1094.8 1804.66 1100.57 Z\" fill=\"#000000\" fill-rule=\"nonzero\" fill-opacity=\"1\" /><path clip-path=\"url(#clip800)\" d=\"M1830.8 1098.62 L1835.68 1098.62 L1835.68 1104.5 L1830.8 1104.5 L1830.8 1098.62 Z\" fill=\"#000000\" fill-rule=\"nonzero\" fill-opacity=\"1\" /><path clip-path=\"url(#clip800)\" d=\"M1855.86 1073.02 Q1852.25 1073.02 1850.42 1076.59 Q1848.62 1080.13 1848.62 1087.26 Q1848.62 1094.36 1850.42 1097.93 Q1852.25 1101.47 1855.86 1101.47 Q1859.5 1101.47 1861.3 1097.93 Q1863.13 1094.36 1863.13 1087.26 Q1863.13 1080.13 1861.3 1076.59 Q1859.5 1073.02 1855.86 1073.02 M1855.86 1069.32 Q1861.67 1069.32 1864.73 1073.93 Q1867.81 1078.51 1867.81 1087.26 Q1867.81 1095.99 1864.73 1100.59 Q1861.67 1105.18 1855.86 1105.18 Q1850.05 1105.18 1846.98 1100.59 Q1843.92 1095.99 1843.92 1087.26 Q1843.92 1078.51 1846.98 1073.93 Q1850.05 1069.32 1855.86 1069.32 Z\" fill=\"#000000\" fill-rule=\"nonzero\" fill-opacity=\"1\" /><polyline clip-path=\"url(#clip800)\" style=\"stroke:#000000; stroke-linecap:round; stroke-linejoin:round; stroke-width:4; stroke-opacity:1; fill:none\" points=\"664.286,1202.68 664.286,483.08 \"/>\n<polyline clip-path=\"url(#clip800)\" style=\"stroke:#000000; stroke-linecap:round; stroke-linejoin:round; stroke-width:4; stroke-opacity:1; fill:none\" points=\"664.286,1182.32 669.272,1178 \"/>\n<polyline clip-path=\"url(#clip800)\" style=\"stroke:#000000; stroke-linecap:round; stroke-linejoin:round; stroke-width:4; stroke-opacity:1; fill:none\" points=\"664.286,956.026 669.272,951.708 \"/>\n<polyline clip-path=\"url(#clip800)\" style=\"stroke:#000000; stroke-linecap:round; stroke-linejoin:round; stroke-width:4; stroke-opacity:1; fill:none\" points=\"664.286,729.736 669.272,725.418 \"/>\n<polyline clip-path=\"url(#clip800)\" style=\"stroke:#000000; stroke-linecap:round; stroke-linejoin:round; stroke-width:4; stroke-opacity:1; fill:none\" points=\"664.286,503.446 669.272,499.128 \"/>\n<path clip-path=\"url(#clip800)\" d=\"M623.542 1168.11 Q619.931 1168.11 618.102 1171.68 Q616.297 1175.22 616.297 1182.35 Q616.297 1189.46 618.102 1193.02 Q619.931 1196.56 623.542 1196.56 Q627.176 1196.56 628.982 1193.02 Q630.81 1189.46 630.81 1182.35 Q630.81 1175.22 628.982 1171.68 Q627.176 1168.11 623.542 1168.11 M623.542 1164.41 Q629.352 1164.41 632.408 1169.02 Q635.486 1173.6 635.486 1182.35 Q635.486 1191.08 632.408 1195.68 Q629.352 1200.27 623.542 1200.27 Q617.732 1200.27 614.653 1195.68 Q611.598 1191.08 611.598 1182.35 Q611.598 1173.6 614.653 1169.02 Q617.732 1164.41 623.542 1164.41 Z\" fill=\"#000000\" fill-rule=\"nonzero\" fill-opacity=\"1\" /><path clip-path=\"url(#clip800)\" d=\"M615.579 969.371 L623.218 969.371 L623.218 943.005 L614.908 944.672 L614.908 940.412 L623.172 938.746 L627.847 938.746 L627.847 969.371 L635.486 969.371 L635.486 973.306 L615.579 973.306 L615.579 969.371 Z\" fill=\"#000000\" fill-rule=\"nonzero\" fill-opacity=\"1\" /><path clip-path=\"url(#clip800)\" d=\"M619.167 743.081 L635.486 743.081 L635.486 747.016 L613.542 747.016 L613.542 743.081 Q616.204 740.326 620.787 735.697 Q625.394 731.044 626.574 729.701 Q628.82 727.178 629.699 725.442 Q630.602 723.683 630.602 721.993 Q630.602 719.238 628.658 717.502 Q626.736 715.766 623.634 715.766 Q621.435 715.766 618.982 716.53 Q616.551 717.294 613.773 718.845 L613.773 714.123 Q616.597 712.988 619.051 712.41 Q621.505 711.831 623.542 711.831 Q628.912 711.831 632.107 714.516 Q635.301 717.201 635.301 721.692 Q635.301 723.822 634.491 725.743 Q633.704 727.641 631.597 730.234 Q631.019 730.905 627.917 734.122 Q624.815 737.317 619.167 743.081 Z\" fill=\"#000000\" fill-rule=\"nonzero\" fill-opacity=\"1\" /><path clip-path=\"url(#clip800)\" d=\"M628.357 502.092 Q631.713 502.809 633.588 505.078 Q635.486 507.346 635.486 510.68 Q635.486 515.795 631.968 518.596 Q628.449 521.397 621.968 521.397 Q619.792 521.397 617.477 520.957 Q615.185 520.541 612.732 519.684 L612.732 515.17 Q614.676 516.305 616.991 516.883 Q619.306 517.462 621.829 517.462 Q626.227 517.462 628.519 515.726 Q630.834 513.99 630.834 510.68 Q630.834 507.624 628.681 505.911 Q626.551 504.175 622.732 504.175 L618.704 504.175 L618.704 500.333 L622.917 500.333 Q626.366 500.333 628.195 498.967 Q630.023 497.578 630.023 494.985 Q630.023 492.323 628.125 490.911 Q626.25 489.476 622.732 489.476 Q620.81 489.476 618.611 489.893 Q616.412 490.31 613.773 491.189 L613.773 487.022 Q616.435 486.282 618.75 485.911 Q621.088 485.541 623.148 485.541 Q628.472 485.541 631.574 487.972 Q634.676 490.379 634.676 494.499 Q634.676 497.37 633.033 499.36 Q631.389 501.328 628.357 502.092 Z\" fill=\"#000000\" fill-rule=\"nonzero\" fill-opacity=\"1\" /><polyline clip-path=\"url(#clip802)\" style=\"stroke:#009af9; stroke-linecap:round; stroke-linejoin:round; stroke-width:8; stroke-opacity:1; fill:none\" points=\"696.411,1178.01 1767.23,355.68 \"/>\n<path clip-path=\"url(#clip800)\" d=\"M185.61 198.898 L436.957 198.898 L436.957 95.2176 L185.61 95.2176  Z\" fill=\"#ffffff\" fill-rule=\"evenodd\" fill-opacity=\"1\"/>\n<polyline clip-path=\"url(#clip800)\" style=\"stroke:#000000; stroke-linecap:round; stroke-linejoin:round; stroke-width:4; stroke-opacity:1; fill:none\" points=\"185.61,198.898 436.957,198.898 436.957,95.2176 185.61,95.2176 185.61,198.898 \"/>\n<polyline clip-path=\"url(#clip800)\" style=\"stroke:#009af9; stroke-linecap:round; stroke-linejoin:round; stroke-width:8; stroke-opacity:1; fill:none\" points=\"210.52,147.058 359.978,147.058 \"/>\n<path clip-path=\"url(#clip800)\" d=\"M408.779 139.249 Q408.779 140.56 407.959 141.31 Q407.139 142.036 406.202 142.036 Q405.312 142.036 404.844 141.521 Q404.375 141.006 404.375 140.35 Q404.375 139.46 405.031 138.687 Q405.687 137.914 406.671 137.75 Q405.71 137.141 404.282 137.141 Q403.345 137.141 402.525 137.633 Q401.729 138.125 401.237 138.757 Q400.768 139.389 400.347 140.303 Q399.948 141.193 399.785 141.732 Q399.644 142.247 399.527 142.809 L397.887 149.367 Q397.091 152.483 397.091 153.583 Q397.091 154.942 397.747 155.855 Q398.403 156.745 399.714 156.745 Q400.23 156.745 400.815 156.605 Q401.401 156.441 402.15 156.019 Q402.923 155.574 403.602 154.918 Q404.305 154.239 404.984 153.091 Q405.664 151.944 406.109 150.468 Q406.249 149.953 406.718 149.953 Q407.303 149.953 407.303 150.421 Q407.303 150.82 406.975 151.663 Q406.671 152.483 405.991 153.56 Q405.336 154.614 404.469 155.574 Q403.602 156.511 402.314 157.167 Q401.026 157.823 399.621 157.823 Q397.606 157.823 396.271 156.745 Q394.936 155.668 394.444 154.169 Q394.327 154.38 394.163 154.661 Q393.999 154.942 393.507 155.574 Q393.039 156.183 392.5 156.652 Q391.961 157.097 391.118 157.448 Q390.298 157.823 389.408 157.823 Q388.284 157.823 387.277 157.495 Q386.293 157.167 385.591 156.417 Q384.888 155.668 384.888 154.637 Q384.888 153.49 385.661 152.693 Q386.457 151.874 387.535 151.874 Q388.214 151.874 388.753 152.272 Q389.315 152.67 389.315 153.537 Q389.315 154.497 388.659 155.223 Q388.003 155.949 387.066 156.136 Q388.026 156.745 389.455 156.745 Q391.001 156.745 392.219 155.387 Q393.437 154.028 394.023 151.756 Q395.475 146.299 396.037 143.863 Q396.599 141.404 396.599 140.35 Q396.599 139.366 396.341 138.687 Q396.084 138.007 395.639 137.703 Q395.217 137.375 394.819 137.258 Q394.444 137.141 394.023 137.141 Q393.32 137.141 392.524 137.422 Q391.751 137.703 390.814 138.359 Q389.9 138.991 389.034 140.303 Q388.167 141.615 387.581 143.418 Q387.464 143.957 386.949 143.957 Q386.387 143.933 386.387 143.465 Q386.387 143.067 386.691 142.247 Q387.019 141.404 387.675 140.35 Q388.354 139.296 389.221 138.359 Q390.111 137.398 391.399 136.743 Q392.711 136.087 394.116 136.087 Q394.749 136.087 395.358 136.227 Q395.99 136.344 396.74 136.696 Q397.513 137.047 398.192 137.82 Q398.871 138.593 399.293 139.717 Q399.574 139.179 399.948 138.663 Q400.347 138.148 400.956 137.516 Q401.588 136.86 402.455 136.485 Q403.345 136.087 404.328 136.087 Q405.289 136.087 406.226 136.344 Q407.163 136.579 407.959 137.352 Q408.779 138.101 408.779 139.249 Z\" fill=\"#000000\" fill-rule=\"nonzero\" fill-opacity=\"1\" /></svg>\n"
          },
          "metadata": {},
          "execution_count": 95
        }
      ]
    },
    {
      "cell_type": "markdown",
      "source": [
        "Let's do some transformations with an interesting Hilbert kernel\n",
        "\n",
        "$$\n",
        "H = \\begin{bmatrix}\n",
        "\\frac{1}{1+1-1} & \\frac{1}{1+2-1} & \\frac{1}{1+3-1} \\\\\n",
        "\\frac{1}{2+1-1} & \\frac{1}{2+2-1} & \\frac{1}{2+3-1} \\\\\n",
        "\\frac{1}{3+1-1} & \\frac{1}{3+2-1} & \\frac{1}{3+3-1}\n",
        "\\end{bmatrix}\n",
        "=\n",
        "\\begin{bmatrix}\n",
        "1 & \\frac{1}{2} & \\frac{1}{3} \\\\\n",
        "\\frac{1}{2} & \\frac{1}{3} & \\frac{1}{4} \\\\\n",
        "\\frac{1}{3} & \\frac{1}{4} & \\frac{1}{5}\n",
        "\\end{bmatrix}.\n",
        "$$"
      ],
      "metadata": {
        "id": "4GpdXsMSqKnW"
      }
    },
    {
      "cell_type": "code",
      "source": [
        "H = [ 1      1/2    1/3;\n",
        "      1/2    1/3    1/4;\n",
        "      1/3    1/4    1/5 ]\n",
        "y = H*x\n",
        "\n",
        "plot([0, x[1]], [0, x[2]], [0, x[3]], arrow=true, linewidth=2, label=\"\\$x\\$\")\n",
        "plot!([0, y[1]], [0, y[2]], [0, y[3]], arrow=true, linewidth=2, label=\"\\$y\\$\")"
      ],
      "metadata": {
        "colab": {
          "base_uri": "https://localhost:8080/",
          "height": 422
        },
        "id": "Hy_-CLV9OTnV",
        "outputId": "9e513bd9-1436-4d82-bbe7-5fcb91227b8d"
      },
      "execution_count": null,
      "outputs": [
        {
          "output_type": "execute_result",
          "data": {
            "image/png": "[encoded data removed]",
            "text/html": [
              "<?xml version=\"1.0\" encoding=\"utf-8\"?>\n",
              "<svg xmlns=\"http://www.w3.org/2000/svg\" xmlns:xlink=\"http://www.w3.org/1999/xlink\" width=\"600\" height=\"400\" viewBox=\"0 0 2400 1600\">\n",
              "<defs>\n",
              "  <clipPath id=\"clip940\">\n",
              "    <rect x=\"0\" y=\"0\" width=\"2400\" height=\"1600\"/>\n",
              "  </clipPath>\n",
              "</defs>\n",
              "<path clip-path=\"url(#clip940)\" d=\"M0 1600 L2400 1600 L2400 0 L0 0  Z\" fill=\"#ffffff\" fill-rule=\"evenodd\" fill-opacity=\"1\"/>\n",
              "<defs>\n",
              "  <clipPath id=\"clip941\">\n",
              "    <rect x=\"480\" y=\"0\" width=\"1681\" height=\"1600\"/>\n",
              "  </clipPath>\n",
              "</defs>\n",
              "<defs>\n",
              "  <clipPath id=\"clip942\">\n",
              "    <rect x=\"110\" y=\"47\" width=\"2243\" height=\"1440\"/>\n",
              "  </clipPath>\n",
              "</defs>\n",
              "<path clip-path=\"url(#clip942)\" d=\"M-182.608 1856.88 L-182.608 1178.01 L78.6888 838.577 L531.269 1034.55 L531.269 1713.42 L269.972 2052.85 L-182.608 1856.88  Z\" fill=\"#ffffff\" fill-rule=\"evenodd\" fill-opacity=\"1\"/>\n",
              "<polyline clip-path=\"url(#clip942)\" style=\"stroke:#000000; stroke-linecap:round; stroke-linejoin:round; stroke-width:2; stroke-opacity:0.1; fill:none\" points=\"684.652,1208.56 1100.11,848.76 1100.11,129.158 \"/>\n",
              "<polyline clip-path=\"url(#clip942)\" style=\"stroke:#000000; stroke-linecap:round; stroke-linejoin:round; stroke-width:2; stroke-opacity:0.1; fill:none\" points=\"910.942,1273.89 1326.4,914.084 1326.4,194.482 \"/>\n",
              "<polyline clip-path=\"url(#clip942)\" style=\"stroke:#000000; stroke-linecap:round; stroke-linejoin:round; stroke-width:2; stroke-opacity:0.1; fill:none\" points=\"1137.23,1339.21 1552.69,979.409 1552.69,259.807 \"/>\n",
              "<polyline clip-path=\"url(#clip942)\" style=\"stroke:#000000; stroke-linecap:round; stroke-linejoin:round; stroke-width:2; stroke-opacity:0.1; fill:none\" points=\"1363.52,1404.53 1778.98,1044.73 1778.98,325.131 \"/>\n",
              "<polyline clip-path=\"url(#clip942)\" style=\"stroke:#000000; stroke-linecap:round; stroke-linejoin:round; stroke-width:2; stroke-opacity:0.1; fill:none\" points=\"1395.65,1400.23 676.045,1192.5 676.045,472.897 \"/>\n",
              "<polyline clip-path=\"url(#clip942)\" style=\"stroke:#000000; stroke-linecap:round; stroke-linejoin:round; stroke-width:2; stroke-opacity:0.1; fill:none\" points=\"1493.63,1315.37 774.031,1107.64 774.031,388.038 \"/>\n",
              "<polyline clip-path=\"url(#clip942)\" style=\"stroke:#000000; stroke-linecap:round; stroke-linejoin:round; stroke-width:2; stroke-opacity:0.1; fill:none\" points=\"1591.62,1230.51 872.017,1022.78 872.017,303.179 \"/>\n",
              "<polyline clip-path=\"url(#clip942)\" style=\"stroke:#000000; stroke-linecap:round; stroke-linejoin:round; stroke-width:2; stroke-opacity:0.1; fill:none\" points=\"1689.61,1145.65 970.004,937.923 970.004,218.321 \"/>\n",
              "<polyline clip-path=\"url(#clip942)\" style=\"stroke:#000000; stroke-linecap:round; stroke-linejoin:round; stroke-width:2; stroke-opacity:0.1; fill:none\" points=\"1787.59,1060.8 1067.99,853.064 1067.99,133.462 \"/>\n",
              "<polyline clip-path=\"url(#clip942)\" style=\"stroke:#000000; stroke-linecap:round; stroke-linejoin:round; stroke-width:2; stroke-opacity:0.1; fill:none\" points=\"664.286,1182.32 1079.75,822.515 1799.35,1030.25 \"/>\n",
              "<polyline clip-path=\"url(#clip942)\" style=\"stroke:#000000; stroke-linecap:round; stroke-linejoin:round; stroke-width:2; stroke-opacity:0.1; fill:none\" points=\"664.286,956.026 1079.75,596.225 1799.35,803.956 \"/>\n",
              "<polyline clip-path=\"url(#clip942)\" style=\"stroke:#000000; stroke-linecap:round; stroke-linejoin:round; stroke-width:2; stroke-opacity:0.1; fill:none\" points=\"664.286,729.736 1079.75,369.935 1799.35,577.666 \"/>\n",
              "<polyline clip-path=\"url(#clip942)\" style=\"stroke:#000000; stroke-linecap:round; stroke-linejoin:round; stroke-width:2; stroke-opacity:0.1; fill:none\" points=\"664.286,503.446 1079.75,143.645 1799.35,351.376 \"/>\n",
              "<polyline clip-path=\"url(#clip940)\" style=\"stroke:#000000; stroke-linecap:round; stroke-linejoin:round; stroke-width:4; stroke-opacity:1; fill:none\" points=\"664.286,1202.68 1383.89,1410.41 \"/>\n",
              "<polyline clip-path=\"url(#clip940)\" style=\"stroke:#000000; stroke-linecap:round; stroke-linejoin:round; stroke-width:4; stroke-opacity:1; fill:none\" points=\"684.652,1208.56 689.638,1204.24 \"/>\n",
              "<polyline clip-path=\"url(#clip940)\" style=\"stroke:#000000; stroke-linecap:round; stroke-linejoin:round; stroke-width:4; stroke-opacity:1; fill:none\" points=\"910.942,1273.89 915.928,1269.57 \"/>\n",
              "<polyline clip-path=\"url(#clip940)\" style=\"stroke:#000000; stroke-linecap:round; stroke-linejoin:round; stroke-width:4; stroke-opacity:1; fill:none\" points=\"1137.23,1339.21 1142.22,1334.89 \"/>\n",
              "<polyline clip-path=\"url(#clip940)\" style=\"stroke:#000000; stroke-linecap:round; stroke-linejoin:round; stroke-width:4; stroke-opacity:1; fill:none\" points=\"1363.52,1404.53 1368.51,1400.22 \"/>\n",
              "<path clip-path=\"url(#clip940)\" d=\"M661.264 1220.79 Q657.653 1220.79 655.824 1224.35 Q654.019 1227.89 654.019 1235.02 Q654.019 1242.13 655.824 1245.7 Q657.653 1249.24 661.264 1249.24 Q664.898 1249.24 666.704 1245.7 Q668.533 1242.13 668.533 1235.02 Q668.533 1227.89 666.704 1224.35 Q664.898 1220.79 661.264 1220.79 M661.264 1217.08 Q667.074 1217.08 670.13 1221.69 Q673.208 1226.27 673.208 1235.02 Q673.208 1243.75 670.13 1248.36 Q667.074 1252.94 661.264 1252.94 Q655.454 1252.94 652.375 1248.36 Q649.32 1243.75 649.32 1235.02 Q649.32 1226.27 652.375 1221.69 Q655.454 1217.08 661.264 1217.08 Z\" fill=\"#000000\" fill-rule=\"nonzero\" fill-opacity=\"1\" /><path clip-path=\"url(#clip940)\" d=\"M879.591 1313.66 L887.23 1313.66 L887.23 1287.29 L878.92 1288.96 L878.92 1284.7 L887.184 1283.03 L891.859 1283.03 L891.859 1313.66 L899.498 1313.66 L899.498 1317.59 L879.591 1317.59 L879.591 1313.66 Z\" fill=\"#000000\" fill-rule=\"nonzero\" fill-opacity=\"1\" /><path clip-path=\"url(#clip940)\" d=\"M1109.47 1378.98 L1125.79 1378.98 L1125.79 1382.92 L1103.84 1382.92 L1103.84 1378.98 Q1106.51 1376.23 1111.09 1371.6 Q1115.7 1366.95 1116.88 1365.6 Q1119.12 1363.08 1120 1361.34 Q1120.9 1359.59 1120.9 1357.9 Q1120.9 1355.14 1118.96 1353.4 Q1117.04 1351.67 1113.94 1351.67 Q1111.74 1351.67 1109.28 1352.43 Q1106.85 1353.2 1104.08 1354.75 L1104.08 1350.02 Q1106.9 1348.89 1109.35 1348.31 Q1111.81 1347.73 1113.84 1347.73 Q1119.21 1347.73 1122.41 1350.42 Q1125.6 1353.1 1125.6 1357.59 Q1125.6 1359.72 1124.79 1361.65 Q1124.01 1363.54 1121.9 1366.14 Q1121.32 1366.81 1118.22 1370.02 Q1115.12 1373.22 1109.47 1378.98 Z\" fill=\"#000000\" fill-rule=\"nonzero\" fill-opacity=\"1\" /><path clip-path=\"url(#clip940)\" d=\"M1344.95 1429.61 Q1348.3 1430.33 1350.18 1432.59 Q1352.08 1434.86 1352.08 1438.2 Q1352.08 1443.31 1348.56 1446.11 Q1345.04 1448.91 1338.56 1448.91 Q1336.38 1448.91 1334.07 1448.47 Q1331.78 1448.06 1329.32 1447.2 L1329.32 1442.69 Q1331.27 1443.82 1333.58 1444.4 Q1335.9 1444.98 1338.42 1444.98 Q1342.82 1444.98 1345.11 1443.24 Q1347.43 1441.51 1347.43 1438.2 Q1347.43 1435.14 1345.27 1433.43 Q1343.14 1431.69 1339.32 1431.69 L1335.3 1431.69 L1335.3 1427.85 L1339.51 1427.85 Q1342.96 1427.85 1344.79 1426.48 Q1346.62 1425.09 1346.62 1422.5 Q1346.62 1419.84 1344.72 1418.43 Q1342.84 1416.99 1339.32 1416.99 Q1337.4 1416.99 1335.2 1417.41 Q1333 1417.83 1330.37 1418.71 L1330.37 1414.54 Q1333.03 1413.8 1335.34 1413.43 Q1337.68 1413.06 1339.74 1413.06 Q1345.06 1413.06 1348.17 1415.49 Q1351.27 1417.9 1351.27 1422.02 Q1351.27 1424.89 1349.62 1426.88 Q1347.98 1428.84 1344.95 1429.61 Z\" fill=\"#000000\" fill-rule=\"nonzero\" fill-opacity=\"1\" /><polyline clip-path=\"url(#clip940)\" style=\"stroke:#000000; stroke-linecap:round; stroke-linejoin:round; stroke-width:4; stroke-opacity:1; fill:none\" points=\"1383.89,1410.41 1799.35,1050.61 \"/>\n",
              "<polyline clip-path=\"url(#clip940)\" style=\"stroke:#000000; stroke-linecap:round; stroke-linejoin:round; stroke-width:4; stroke-opacity:1; fill:none\" points=\"1395.65,1400.23 1387.01,1397.74 \"/>\n",
              "<polyline clip-path=\"url(#clip940)\" style=\"stroke:#000000; stroke-linecap:round; stroke-linejoin:round; stroke-width:4; stroke-opacity:1; fill:none\" points=\"1493.63,1315.37 1485,1312.88 \"/>\n",
              "<polyline clip-path=\"url(#clip940)\" style=\"stroke:#000000; stroke-linecap:round; stroke-linejoin:round; stroke-width:4; stroke-opacity:1; fill:none\" points=\"1591.62,1230.51 1582.98,1228.02 \"/>\n",
              "<polyline clip-path=\"url(#clip940)\" style=\"stroke:#000000; stroke-linecap:round; stroke-linejoin:round; stroke-width:4; stroke-opacity:1; fill:none\" points=\"1689.61,1145.65 1680.97,1143.16 \"/>\n",
              "<polyline clip-path=\"url(#clip940)\" style=\"stroke:#000000; stroke-linecap:round; stroke-linejoin:round; stroke-width:4; stroke-opacity:1; fill:none\" points=\"1787.59,1060.8 1778.96,1058.3 \"/>\n",
              "<path clip-path=\"url(#clip940)\" d=\"M1430.41 1403.6 Q1426.8 1403.6 1424.97 1407.16 Q1423.17 1410.7 1423.17 1417.83 Q1423.17 1424.94 1424.97 1428.5 Q1426.8 1432.05 1430.41 1432.05 Q1434.05 1432.05 1435.85 1428.5 Q1437.68 1424.94 1437.68 1417.83 Q1437.68 1410.7 1435.85 1407.16 Q1434.05 1403.6 1430.41 1403.6 M1430.41 1399.89 Q1436.22 1399.89 1439.28 1404.5 Q1442.36 1409.08 1442.36 1417.83 Q1442.36 1426.56 1439.28 1431.17 Q1436.22 1435.75 1430.41 1435.75 Q1424.6 1435.75 1421.52 1431.17 Q1418.47 1426.56 1418.47 1417.83 Q1418.47 1409.08 1421.52 1404.5 Q1424.6 1399.89 1430.41 1399.89 Z\" fill=\"#000000\" fill-rule=\"nonzero\" fill-opacity=\"1\" /><path clip-path=\"url(#clip940)\" d=\"M1450.57 1429.2 L1455.46 1429.2 L1455.46 1435.08 L1450.57 1435.08 L1450.57 1429.2 Z\" fill=\"#000000\" fill-rule=\"nonzero\" fill-opacity=\"1\" /><path clip-path=\"url(#clip940)\" d=\"M1475.64 1403.6 Q1472.03 1403.6 1470.2 1407.16 Q1468.4 1410.7 1468.4 1417.83 Q1468.4 1424.94 1470.2 1428.5 Q1472.03 1432.05 1475.64 1432.05 Q1479.28 1432.05 1481.08 1428.5 Q1482.91 1424.94 1482.91 1417.83 Q1482.91 1410.7 1481.08 1407.16 Q1479.28 1403.6 1475.64 1403.6 M1475.64 1399.89 Q1481.45 1399.89 1484.51 1404.5 Q1487.59 1409.08 1487.59 1417.83 Q1487.59 1426.56 1484.51 1431.17 Q1481.45 1435.75 1475.64 1435.75 Q1469.83 1435.75 1466.75 1431.17 Q1463.7 1426.56 1463.7 1417.83 Q1463.7 1409.08 1466.75 1404.5 Q1469.83 1399.89 1475.64 1399.89 Z\" fill=\"#000000\" fill-rule=\"nonzero\" fill-opacity=\"1\" /><path clip-path=\"url(#clip940)\" d=\"M1528.4 1318.74 Q1524.79 1318.74 1522.96 1322.3 Q1521.15 1325.84 1521.15 1332.97 Q1521.15 1340.08 1522.96 1343.65 Q1524.79 1347.19 1528.4 1347.19 Q1532.03 1347.19 1533.84 1343.65 Q1535.67 1340.08 1535.67 1332.97 Q1535.67 1325.84 1533.84 1322.3 Q1532.03 1318.74 1528.4 1318.74 M1528.4 1315.03 Q1534.21 1315.03 1537.26 1319.64 Q1540.34 1324.22 1540.34 1332.97 Q1540.34 1341.7 1537.26 1346.31 Q1534.21 1350.89 1528.4 1350.89 Q1522.59 1350.89 1519.51 1346.31 Q1516.45 1341.7 1516.45 1332.97 Q1516.45 1324.22 1519.51 1319.64 Q1522.59 1315.03 1528.4 1315.03 Z\" fill=\"#000000\" fill-rule=\"nonzero\" fill-opacity=\"1\" /><path clip-path=\"url(#clip940)\" d=\"M1548.56 1344.34 L1553.44 1344.34 L1553.44 1350.22 L1548.56 1350.22 L1548.56 1344.34 Z\" fill=\"#000000\" fill-rule=\"nonzero\" fill-opacity=\"1\" /><path clip-path=\"url(#clip940)\" d=\"M1563.68 1315.66 L1582.03 1315.66 L1582.03 1319.59 L1567.96 1319.59 L1567.96 1328.07 Q1568.98 1327.72 1570 1327.56 Q1571.01 1327.37 1572.03 1327.37 Q1577.82 1327.37 1581.2 1330.54 Q1584.58 1333.71 1584.58 1339.13 Q1584.58 1344.71 1581.11 1347.81 Q1577.63 1350.89 1571.32 1350.89 Q1569.14 1350.89 1566.87 1350.52 Q1564.63 1350.15 1562.22 1349.41 L1562.22 1344.71 Q1564.3 1345.84 1566.52 1346.4 Q1568.75 1346.96 1571.22 1346.96 Q1575.23 1346.96 1577.57 1344.85 Q1579.9 1342.74 1579.9 1339.13 Q1579.9 1335.52 1577.57 1333.41 Q1575.23 1331.31 1571.22 1331.31 Q1569.35 1331.31 1567.47 1331.72 Q1565.62 1332.14 1563.68 1333.02 L1563.68 1315.66 Z\" fill=\"#000000\" fill-rule=\"nonzero\" fill-opacity=\"1\" /><path clip-path=\"url(#clip940)\" d=\"M1615.11 1261.43 L1622.75 1261.43 L1622.75 1235.06 L1614.44 1236.73 L1614.44 1232.47 L1622.7 1230.8 L1627.38 1230.8 L1627.38 1261.43 L1635.02 1261.43 L1635.02 1265.36 L1615.11 1265.36 L1615.11 1261.43 Z\" fill=\"#000000\" fill-rule=\"nonzero\" fill-opacity=\"1\" /><path clip-path=\"url(#clip940)\" d=\"M1644.46 1259.48 L1649.35 1259.48 L1649.35 1265.36 L1644.46 1265.36 L1644.46 1259.48 Z\" fill=\"#000000\" fill-rule=\"nonzero\" fill-opacity=\"1\" /><path clip-path=\"url(#clip940)\" d=\"M1669.53 1233.88 Q1665.92 1233.88 1664.09 1237.44 Q1662.29 1240.99 1662.29 1248.12 Q1662.29 1255.22 1664.09 1258.79 Q1665.92 1262.33 1669.53 1262.33 Q1673.17 1262.33 1674.97 1258.79 Q1676.8 1255.22 1676.8 1248.12 Q1676.8 1240.99 1674.97 1237.44 Q1673.17 1233.88 1669.53 1233.88 M1669.53 1230.18 Q1675.34 1230.18 1678.4 1234.78 Q1681.48 1239.37 1681.48 1248.12 Q1681.48 1256.84 1678.4 1261.45 Q1675.34 1266.03 1669.53 1266.03 Q1663.72 1266.03 1660.64 1261.45 Q1657.59 1256.84 1657.59 1248.12 Q1657.59 1239.37 1660.64 1234.78 Q1663.72 1230.18 1669.53 1230.18 Z\" fill=\"#000000\" fill-rule=\"nonzero\" fill-opacity=\"1\" /><path clip-path=\"url(#clip940)\" d=\"M1713.1 1176.57 L1720.74 1176.57 L1720.74 1150.2 L1712.43 1151.87 L1712.43 1147.61 L1720.69 1145.94 L1725.37 1145.94 L1725.37 1176.57 L1733.01 1176.57 L1733.01 1180.5 L1713.1 1180.5 L1713.1 1176.57 Z\" fill=\"#000000\" fill-rule=\"nonzero\" fill-opacity=\"1\" /><path clip-path=\"url(#clip940)\" d=\"M1742.45 1174.62 L1747.33 1174.62 L1747.33 1180.5 L1742.45 1180.5 L1742.45 1174.62 Z\" fill=\"#000000\" fill-rule=\"nonzero\" fill-opacity=\"1\" /><path clip-path=\"url(#clip940)\" d=\"M1757.57 1145.94 L1775.92 1145.94 L1775.92 1149.88 L1761.85 1149.88 L1761.85 1158.35 Q1762.87 1158 1763.89 1157.84 Q1764.9 1157.65 1765.92 1157.65 Q1771.71 1157.65 1775.09 1160.83 Q1778.47 1164 1778.47 1169.41 Q1778.47 1174.99 1775 1178.09 Q1771.52 1181.17 1765.2 1181.17 Q1763.03 1181.17 1760.76 1180.8 Q1758.51 1180.43 1756.11 1179.69 L1756.11 1174.99 Q1758.19 1176.13 1760.41 1176.68 Q1762.64 1177.24 1765.11 1177.24 Q1769.12 1177.24 1771.45 1175.13 Q1773.79 1173.02 1773.79 1169.41 Q1773.79 1165.8 1771.45 1163.7 Q1769.12 1161.59 1765.11 1161.59 Q1763.24 1161.59 1761.36 1162.01 Q1759.51 1162.42 1757.57 1163.3 L1757.57 1145.94 Z\" fill=\"#000000\" fill-rule=\"nonzero\" fill-opacity=\"1\" /><path clip-path=\"url(#clip940)\" d=\"M1816.04 1091.71 L1832.36 1091.71 L1832.36 1095.64 L1810.41 1095.64 L1810.41 1091.71 Q1813.08 1088.95 1817.66 1084.32 Q1822.27 1079.67 1823.45 1078.33 Q1825.69 1075.81 1826.57 1074.07 Q1827.47 1072.31 1827.47 1070.62 Q1827.47 1067.87 1825.53 1066.13 Q1823.61 1064.39 1820.51 1064.39 Q1818.31 1064.39 1815.85 1065.16 Q1813.42 1065.92 1810.64 1067.47 L1810.64 1062.75 Q1813.47 1061.62 1815.92 1061.04 Q1818.38 1060.46 1820.41 1060.46 Q1825.78 1060.46 1828.98 1063.14 Q1832.17 1065.83 1832.17 1070.32 Q1832.17 1072.45 1831.36 1074.37 Q1830.58 1076.27 1828.47 1078.86 Q1827.89 1079.53 1824.79 1082.75 Q1821.69 1085.94 1816.04 1091.71 Z\" fill=\"#000000\" fill-rule=\"nonzero\" fill-opacity=\"1\" /><path clip-path=\"url(#clip940)\" d=\"M1842.17 1089.76 L1847.06 1089.76 L1847.06 1095.64 L1842.17 1095.64 L1842.17 1089.76 Z\" fill=\"#000000\" fill-rule=\"nonzero\" fill-opacity=\"1\" /><path clip-path=\"url(#clip940)\" d=\"M1867.24 1064.16 Q1863.63 1064.16 1861.8 1067.73 Q1860 1071.27 1860 1078.4 Q1860 1085.5 1861.8 1089.07 Q1863.63 1092.61 1867.24 1092.61 Q1870.88 1092.61 1872.68 1089.07 Q1874.51 1085.5 1874.51 1078.4 Q1874.51 1071.27 1872.68 1067.73 Q1870.88 1064.16 1867.24 1064.16 M1867.24 1060.46 Q1873.05 1060.46 1876.11 1065.06 Q1879.19 1069.65 1879.19 1078.4 Q1879.19 1087.12 1876.11 1091.73 Q1873.05 1096.31 1867.24 1096.31 Q1861.43 1096.31 1858.35 1091.73 Q1855.3 1087.12 1855.3 1078.4 Q1855.3 1069.65 1858.35 1065.06 Q1861.43 1060.46 1867.24 1060.46 Z\" fill=\"#000000\" fill-rule=\"nonzero\" fill-opacity=\"1\" /><polyline clip-path=\"url(#clip940)\" style=\"stroke:#000000; stroke-linecap:round; stroke-linejoin:round; stroke-width:4; stroke-opacity:1; fill:none\" points=\"664.286,1202.68 664.286,483.08 \"/>\n",
              "<polyline clip-path=\"url(#clip940)\" style=\"stroke:#000000; stroke-linecap:round; stroke-linejoin:round; stroke-width:4; stroke-opacity:1; fill:none\" points=\"664.286,1182.32 669.272,1178 \"/>\n",
              "<polyline clip-path=\"url(#clip940)\" style=\"stroke:#000000; stroke-linecap:round; stroke-linejoin:round; stroke-width:4; stroke-opacity:1; fill:none\" points=\"664.286,956.026 669.272,951.708 \"/>\n",
              "<polyline clip-path=\"url(#clip940)\" style=\"stroke:#000000; stroke-linecap:round; stroke-linejoin:round; stroke-width:4; stroke-opacity:1; fill:none\" points=\"664.286,729.736 669.272,725.418 \"/>\n",
              "<polyline clip-path=\"url(#clip940)\" style=\"stroke:#000000; stroke-linecap:round; stroke-linejoin:round; stroke-width:4; stroke-opacity:1; fill:none\" points=\"664.286,503.446 669.272,499.128 \"/>\n",
              "<path clip-path=\"url(#clip940)\" d=\"M623.542 1168.11 Q619.931 1168.11 618.102 1171.68 Q616.297 1175.22 616.297 1182.35 Q616.297 1189.46 618.102 1193.02 Q619.931 1196.56 623.542 1196.56 Q627.176 1196.56 628.982 1193.02 Q630.81 1189.46 630.81 1182.35 Q630.81 1175.22 628.982 1171.68 Q627.176 1168.11 623.542 1168.11 M623.542 1164.41 Q629.352 1164.41 632.408 1169.02 Q635.486 1173.6 635.486 1182.35 Q635.486 1191.08 632.408 1195.68 Q629.352 1200.27 623.542 1200.27 Q617.732 1200.27 614.653 1195.68 Q611.598 1191.08 611.598 1182.35 Q611.598 1173.6 614.653 1169.02 Q617.732 1164.41 623.542 1164.41 Z\" fill=\"#000000\" fill-rule=\"nonzero\" fill-opacity=\"1\" /><path clip-path=\"url(#clip940)\" d=\"M615.579 969.371 L623.218 969.371 L623.218 943.005 L614.908 944.672 L614.908 940.412 L623.172 938.746 L627.847 938.746 L627.847 969.371 L635.486 969.371 L635.486 973.306 L615.579 973.306 L615.579 969.371 Z\" fill=\"#000000\" fill-rule=\"nonzero\" fill-opacity=\"1\" /><path clip-path=\"url(#clip940)\" d=\"M619.167 743.081 L635.486 743.081 L635.486 747.016 L613.542 747.016 L613.542 743.081 Q616.204 740.326 620.787 735.697 Q625.394 731.044 626.574 729.701 Q628.82 727.178 629.699 725.442 Q630.602 723.683 630.602 721.993 Q630.602 719.238 628.658 717.502 Q626.736 715.766 623.634 715.766 Q621.435 715.766 618.982 716.53 Q616.551 717.294 613.773 718.845 L613.773 714.123 Q616.597 712.988 619.051 712.41 Q621.505 711.831 623.542 711.831 Q628.912 711.831 632.107 714.516 Q635.301 717.201 635.301 721.692 Q635.301 723.822 634.491 725.743 Q633.704 727.641 631.597 730.234 Q631.019 730.905 627.917 734.122 Q624.815 737.317 619.167 743.081 Z\" fill=\"#000000\" fill-rule=\"nonzero\" fill-opacity=\"1\" /><path clip-path=\"url(#clip940)\" d=\"M628.357 502.092 Q631.713 502.809 633.588 505.078 Q635.486 507.346 635.486 510.68 Q635.486 515.795 631.968 518.596 Q628.449 521.397 621.968 521.397 Q619.792 521.397 617.477 520.957 Q615.185 520.541 612.732 519.684 L612.732 515.17 Q614.676 516.305 616.991 516.883 Q619.306 517.462 621.829 517.462 Q626.227 517.462 628.519 515.726 Q630.834 513.99 630.834 510.68 Q630.834 507.624 628.681 505.911 Q626.551 504.175 622.732 504.175 L618.704 504.175 L618.704 500.333 L622.917 500.333 Q626.366 500.333 628.195 498.967 Q630.023 497.578 630.023 494.985 Q630.023 492.323 628.125 490.911 Q626.25 489.476 622.732 489.476 Q620.81 489.476 618.611 489.893 Q616.412 490.31 613.773 491.189 L613.773 487.022 Q616.435 486.282 618.75 485.911 Q621.088 485.541 623.148 485.541 Q628.472 485.541 631.574 487.972 Q634.676 490.379 634.676 494.499 Q634.676 497.37 633.033 499.36 Q631.389 501.328 628.357 502.092 Z\" fill=\"#000000\" fill-rule=\"nonzero\" fill-opacity=\"1\" /><polyline clip-path=\"url(#clip942)\" style=\"stroke:#009af9; stroke-linecap:round; stroke-linejoin:round; stroke-width:8; stroke-opacity:1; fill:none\" points=\"696.411,1178.01 1314.65,225.032 \"/>\n",
              "<polyline clip-path=\"url(#clip942)\" style=\"stroke:#e26f46; stroke-linecap:round; stroke-linejoin:round; stroke-width:8; stroke-opacity:1; fill:none\" points=\"696.411,1178.01 1750.89,724.344 \"/>\n",
              "<path clip-path=\"url(#clip940)\" d=\"M185.61 250.738 L436.957 250.738 L436.957 95.2176 L185.61 95.2176  Z\" fill=\"#ffffff\" fill-rule=\"evenodd\" fill-opacity=\"1\"/>\n",
              "<polyline clip-path=\"url(#clip940)\" style=\"stroke:#000000; stroke-linecap:round; stroke-linejoin:round; stroke-width:4; stroke-opacity:1; fill:none\" points=\"185.61,250.738 436.957,250.738 436.957,95.2176 185.61,95.2176 185.61,250.738 \"/>\n",
              "<polyline clip-path=\"url(#clip940)\" style=\"stroke:#009af9; stroke-linecap:round; stroke-linejoin:round; stroke-width:8; stroke-opacity:1; fill:none\" points=\"210.52,147.058 359.978,147.058 \"/>\n",
              "<path clip-path=\"url(#clip940)\" d=\"M408.779 139.249 Q408.779 140.56 407.959 141.31 Q407.139 142.036 406.202 142.036 Q405.312 142.036 404.844 141.521 Q404.375 141.006 404.375 140.35 Q404.375 139.46 405.031 138.687 Q405.687 137.914 406.671 137.75 Q405.71 137.141 404.282 137.141 Q403.345 137.141 402.525 137.633 Q401.729 138.125 401.237 138.757 Q400.768 139.389 400.347 140.303 Q399.948 141.193 399.785 141.732 Q399.644 142.247 399.527 142.809 L397.887 149.367 Q397.091 152.483 397.091 153.583 Q397.091 154.942 397.747 155.855 Q398.403 156.745 399.714 156.745 Q400.23 156.745 400.815 156.605 Q401.401 156.441 402.15 156.019 Q402.923 155.574 403.602 154.918 Q404.305 154.239 404.984 153.091 Q405.664 151.944 406.109 150.468 Q406.249 149.953 406.718 149.953 Q407.303 149.953 407.303 150.421 Q407.303 150.82 406.975 151.663 Q406.671 152.483 405.991 153.56 Q405.336 154.614 404.469 155.574 Q403.602 156.511 402.314 157.167 Q401.026 157.823 399.621 157.823 Q397.606 157.823 396.271 156.745 Q394.936 155.668 394.444 154.169 Q394.327 154.38 394.163 154.661 Q393.999 154.942 393.507 155.574 Q393.039 156.183 392.5 156.652 Q391.961 157.097 391.118 157.448 Q390.298 157.823 389.408 157.823 Q388.284 157.823 387.277 157.495 Q386.293 157.167 385.591 156.417 Q384.888 155.668 384.888 154.637 Q384.888 153.49 385.661 152.693 Q386.457 151.874 387.535 151.874 Q388.214 151.874 388.753 152.272 Q389.315 152.67 389.315 153.537 Q389.315 154.497 388.659 155.223 Q388.003 155.949 387.066 156.136 Q388.026 156.745 389.455 156.745 Q391.001 156.745 392.219 155.387 Q393.437 154.028 394.023 151.756 Q395.475 146.299 396.037 143.863 Q396.599 141.404 396.599 140.35 Q396.599 139.366 396.341 138.687 Q396.084 138.007 395.639 137.703 Q395.217 137.375 394.819 137.258 Q394.444 137.141 394.023 137.141 Q393.32 137.141 392.524 137.422 Q391.751 137.703 390.814 138.359 Q389.9 138.991 389.034 140.303 Q388.167 141.615 387.581 143.418 Q387.464 143.957 386.949 143.957 Q386.387 143.933 386.387 143.465 Q386.387 143.067 386.691 142.247 Q387.019 141.404 387.675 140.35 Q388.354 139.296 389.221 138.359 Q390.111 137.398 391.399 136.743 Q392.711 136.087 394.116 136.087 Q394.749 136.087 395.358 136.227 Q395.99 136.344 396.74 136.696 Q397.513 137.047 398.192 137.82 Q398.871 138.593 399.293 139.717 Q399.574 139.179 399.948 138.663 Q400.347 138.148 400.956 137.516 Q401.588 136.86 402.455 136.485 Q403.345 136.087 404.328 136.087 Q405.289 136.087 406.226 136.344 Q407.163 136.579 407.959 137.352 Q408.779 138.101 408.779 139.249 Z\" fill=\"#000000\" fill-rule=\"nonzero\" fill-opacity=\"1\" /><polyline clip-path=\"url(#clip940)\" style=\"stroke:#e26f46; stroke-linecap:round; stroke-linejoin:round; stroke-width:8; stroke-opacity:1; fill:none\" points=\"210.52,198.898 359.978,198.898 \"/>\n",
              "<path clip-path=\"url(#clip940)\" d=\"M407.022 185.152 Q407.022 185.48 406.811 186.253 L402.22 204.569 Q401.213 208.645 397.934 211.502 Q394.678 214.36 390.978 214.36 Q388.753 214.36 387.324 213.165 Q385.895 211.994 385.895 210.191 Q385.895 208.598 386.738 207.825 Q387.581 207.076 388.589 207.076 Q388.916 207.076 389.268 207.169 Q389.619 207.263 389.994 207.661 Q390.369 208.059 390.369 208.739 Q390.369 209.839 389.408 210.706 Q388.94 211.104 388.495 211.198 Q388.073 211.292 387.347 211.292 Q387.628 211.947 388.144 212.392 Q388.659 212.838 389.244 213.001 Q389.83 213.189 390.205 213.236 Q390.603 213.306 390.978 213.306 Q393.976 213.306 396.271 210.284 Q396.95 209.371 397.442 208.458 Q397.958 207.567 398.332 206.467 Q398.707 205.389 398.871 204.804 Q399.058 204.218 399.386 202.883 Q397.208 205.061 394.538 205.061 Q393.414 205.061 392.406 204.757 Q391.423 204.452 390.556 203.82 Q389.689 203.164 389.174 202.016 Q388.682 200.869 388.682 199.346 Q388.682 197.73 389.315 195.528 Q389.947 193.327 391.47 189.275 Q392.289 187.003 392.289 185.902 Q392.289 185.363 392.172 185.035 Q392.055 184.684 391.821 184.567 Q391.587 184.426 391.446 184.403 Q391.329 184.379 391.095 184.379 Q389.713 184.379 388.425 185.785 Q387.136 187.19 386.246 190.329 Q386.059 190.914 385.942 191.055 Q385.825 191.195 385.473 191.195 Q384.888 191.172 384.888 190.703 Q384.888 190.516 385.099 189.79 Q385.309 189.04 385.801 187.939 Q386.317 186.815 387.019 185.808 Q387.722 184.777 388.823 184.051 Q389.947 183.325 391.235 183.325 Q392.992 183.325 394.069 184.473 Q395.17 185.597 395.17 187.26 Q395.17 187.939 394.983 188.548 Q394.819 189.134 394.21 190.703 Q391.751 197.027 391.751 200.119 Q391.751 200.869 391.868 201.501 Q392.008 202.11 392.313 202.719 Q392.617 203.305 393.226 203.656 Q393.859 203.984 394.725 203.984 Q395.826 203.984 396.857 203.469 Q397.911 202.93 398.567 202.204 Q399.246 201.478 399.644 200.869 Q400.066 200.236 400.159 199.908 L402.314 191.289 L403.274 187.448 Q403.719 185.363 403.93 184.848 Q404.211 184.356 404.703 184.098 Q405.195 183.841 405.617 183.841 Q406.202 183.841 406.6 184.192 Q407.022 184.543 407.022 185.152 Z\" fill=\"#000000\" fill-rule=\"nonzero\" fill-opacity=\"1\" /></svg>\n"
            ],
            "image/svg+xml": "<?xml version=\"1.0\" encoding=\"utf-8\"?>\n<svg xmlns=\"http://www.w3.org/2000/svg\" xmlns:xlink=\"http://www.w3.org/1999/xlink\" width=\"600\" height=\"400\" viewBox=\"0 0 2400 1600\">\n<defs>\n  <clipPath id=\"clip890\">\n    <rect x=\"0\" y=\"0\" width=\"2400\" height=\"1600\"/>\n  </clipPath>\n</defs>\n<path clip-path=\"url(#clip890)\" d=\"M0 1600 L2400 1600 L2400 0 L0 0  Z\" fill=\"#ffffff\" fill-rule=\"evenodd\" fill-opacity=\"1\"/>\n<defs>\n  <clipPath id=\"clip891\">\n    <rect x=\"480\" y=\"0\" width=\"1681\" height=\"1600\"/>\n  </clipPath>\n</defs>\n<defs>\n  <clipPath id=\"clip892\">\n    <rect x=\"110\" y=\"47\" width=\"2243\" height=\"1440\"/>\n  </clipPath>\n</defs>\n<path clip-path=\"url(#clip892)\" d=\"M-182.608 1856.88 L-182.608 1178.01 L78.6888 838.577 L531.269 1034.55 L531.269 1713.42 L269.972 2052.85 L-182.608 1856.88  Z\" fill=\"#ffffff\" fill-rule=\"evenodd\" fill-opacity=\"1\"/>\n<polyline clip-path=\"url(#clip892)\" style=\"stroke:#000000; stroke-linecap:round; stroke-linejoin:round; stroke-width:2; stroke-opacity:0.1; fill:none\" points=\"684.652,1208.56 1100.11,848.76 1100.11,129.158 \"/>\n<polyline clip-path=\"url(#clip892)\" style=\"stroke:#000000; stroke-linecap:round; stroke-linejoin:round; stroke-width:2; stroke-opacity:0.1; fill:none\" points=\"910.942,1273.89 1326.4,914.084 1326.4,194.482 \"/>\n<polyline clip-path=\"url(#clip892)\" style=\"stroke:#000000; stroke-linecap:round; stroke-linejoin:round; stroke-width:2; stroke-opacity:0.1; fill:none\" points=\"1137.23,1339.21 1552.69,979.409 1552.69,259.807 \"/>\n<polyline clip-path=\"url(#clip892)\" style=\"stroke:#000000; stroke-linecap:round; stroke-linejoin:round; stroke-width:2; stroke-opacity:0.1; fill:none\" points=\"1363.52,1404.53 1778.98,1044.73 1778.98,325.131 \"/>\n<polyline clip-path=\"url(#clip892)\" style=\"stroke:#000000; stroke-linecap:round; stroke-linejoin:round; stroke-width:2; stroke-opacity:0.1; fill:none\" points=\"1395.65,1400.23 676.045,1192.5 676.045,472.897 \"/>\n<polyline clip-path=\"url(#clip892)\" style=\"stroke:#000000; stroke-linecap:round; stroke-linejoin:round; stroke-width:2; stroke-opacity:0.1; fill:none\" points=\"1493.63,1315.37 774.031,1107.64 774.031,388.038 \"/>\n<polyline clip-path=\"url(#clip892)\" style=\"stroke:#000000; stroke-linecap:round; stroke-linejoin:round; stroke-width:2; stroke-opacity:0.1; fill:none\" points=\"1591.62,1230.51 872.017,1022.78 872.017,303.179 \"/>\n<polyline clip-path=\"url(#clip892)\" style=\"stroke:#000000; stroke-linecap:round; stroke-linejoin:round; stroke-width:2; stroke-opacity:0.1; fill:none\" points=\"1689.61,1145.65 970.004,937.923 970.004,218.321 \"/>\n<polyline clip-path=\"url(#clip892)\" style=\"stroke:#000000; stroke-linecap:round; stroke-linejoin:round; stroke-width:2; stroke-opacity:0.1; fill:none\" points=\"1787.59,1060.8 1067.99,853.064 1067.99,133.462 \"/>\n<polyline clip-path=\"url(#clip892)\" style=\"stroke:#000000; stroke-linecap:round; stroke-linejoin:round; stroke-width:2; stroke-opacity:0.1; fill:none\" points=\"664.286,1182.32 1079.75,822.515 1799.35,1030.25 \"/>\n<polyline clip-path=\"url(#clip892)\" style=\"stroke:#000000; stroke-linecap:round; stroke-linejoin:round; stroke-width:2; stroke-opacity:0.1; fill:none\" points=\"664.286,956.026 1079.75,596.225 1799.35,803.956 \"/>\n<polyline clip-path=\"url(#clip892)\" style=\"stroke:#000000; stroke-linecap:round; stroke-linejoin:round; stroke-width:2; stroke-opacity:0.1; fill:none\" points=\"664.286,729.736 1079.75,369.935 1799.35,577.666 \"/>\n<polyline clip-path=\"url(#clip892)\" style=\"stroke:#000000; stroke-linecap:round; stroke-linejoin:round; stroke-width:2; stroke-opacity:0.1; fill:none\" points=\"664.286,503.446 1079.75,143.645 1799.35,351.376 \"/>\n<polyline clip-path=\"url(#clip890)\" style=\"stroke:#000000; stroke-linecap:round; stroke-linejoin:round; stroke-width:4; stroke-opacity:1; fill:none\" points=\"664.286,1202.68 1383.89,1410.41 \"/>\n<polyline clip-path=\"url(#clip890)\" style=\"stroke:#000000; stroke-linecap:round; stroke-linejoin:round; stroke-width:4; stroke-opacity:1; fill:none\" points=\"684.652,1208.56 689.638,1204.24 \"/>\n<polyline clip-path=\"url(#clip890)\" style=\"stroke:#000000; stroke-linecap:round; stroke-linejoin:round; stroke-width:4; stroke-opacity:1; fill:none\" points=\"910.942,1273.89 915.928,1269.57 \"/>\n<polyline clip-path=\"url(#clip890)\" style=\"stroke:#000000; stroke-linecap:round; stroke-linejoin:round; stroke-width:4; stroke-opacity:1; fill:none\" points=\"1137.23,1339.21 1142.22,1334.89 \"/>\n<polyline clip-path=\"url(#clip890)\" style=\"stroke:#000000; stroke-linecap:round; stroke-linejoin:round; stroke-width:4; stroke-opacity:1; fill:none\" points=\"1363.52,1404.53 1368.51,1400.22 \"/>\n<path clip-path=\"url(#clip890)\" d=\"M661.264 1220.79 Q657.653 1220.79 655.824 1224.35 Q654.019 1227.89 654.019 1235.02 Q654.019 1242.13 655.824 1245.7 Q657.653 1249.24 661.264 1249.24 Q664.898 1249.24 666.704 1245.7 Q668.533 1242.13 668.533 1235.02 Q668.533 1227.89 666.704 1224.35 Q664.898 1220.79 661.264 1220.79 M661.264 1217.08 Q667.074 1217.08 670.13 1221.69 Q673.208 1226.27 673.208 1235.02 Q673.208 1243.75 670.13 1248.36 Q667.074 1252.94 661.264 1252.94 Q655.454 1252.94 652.375 1248.36 Q649.32 1243.75 649.32 1235.02 Q649.32 1226.27 652.375 1221.69 Q655.454 1217.08 661.264 1217.08 Z\" fill=\"#000000\" fill-rule=\"nonzero\" fill-opacity=\"1\" /><path clip-path=\"url(#clip890)\" d=\"M879.591 1313.66 L887.23 1313.66 L887.23 1287.29 L878.92 1288.96 L878.92 1284.7 L887.184 1283.03 L891.859 1283.03 L891.859 1313.66 L899.498 1313.66 L899.498 1317.59 L879.591 1317.59 L879.591 1313.66 Z\" fill=\"#000000\" fill-rule=\"nonzero\" fill-opacity=\"1\" /><path clip-path=\"url(#clip890)\" d=\"M1109.47 1378.98 L1125.79 1378.98 L1125.79 1382.92 L1103.84 1382.92 L1103.84 1378.98 Q1106.51 1376.23 1111.09 1371.6 Q1115.7 1366.95 1116.88 1365.6 Q1119.12 1363.08 1120 1361.34 Q1120.9 1359.59 1120.9 1357.9 Q1120.9 1355.14 1118.96 1353.4 Q1117.04 1351.67 1113.94 1351.67 Q1111.74 1351.67 1109.28 1352.43 Q1106.85 1353.2 1104.08 1354.75 L1104.08 1350.02 Q1106.9 1348.89 1109.35 1348.31 Q1111.81 1347.73 1113.84 1347.73 Q1119.21 1347.73 1122.41 1350.42 Q1125.6 1353.1 1125.6 1357.59 Q1125.6 1359.72 1124.79 1361.65 Q1124.01 1363.54 1121.9 1366.14 Q1121.32 1366.81 1118.22 1370.02 Q1115.12 1373.22 1109.47 1378.98 Z\" fill=\"#000000\" fill-rule=\"nonzero\" fill-opacity=\"1\" /><path clip-path=\"url(#clip890)\" d=\"M1344.95 1429.61 Q1348.3 1430.33 1350.18 1432.59 Q1352.08 1434.86 1352.08 1438.2 Q1352.08 1443.31 1348.56 1446.11 Q1345.04 1448.91 1338.56 1448.91 Q1336.38 1448.91 1334.07 1448.47 Q1331.78 1448.06 1329.32 1447.2 L1329.32 1442.69 Q1331.27 1443.82 1333.58 1444.4 Q1335.9 1444.98 1338.42 1444.98 Q1342.82 1444.98 1345.11 1443.24 Q1347.43 1441.51 1347.43 1438.2 Q1347.43 1435.14 1345.27 1433.43 Q1343.14 1431.69 1339.32 1431.69 L1335.3 1431.69 L1335.3 1427.85 L1339.51 1427.85 Q1342.96 1427.85 1344.79 1426.48 Q1346.62 1425.09 1346.62 1422.5 Q1346.62 1419.84 1344.72 1418.43 Q1342.84 1416.99 1339.32 1416.99 Q1337.4 1416.99 1335.2 1417.41 Q1333 1417.83 1330.37 1418.71 L1330.37 1414.54 Q1333.03 1413.8 1335.34 1413.43 Q1337.68 1413.06 1339.74 1413.06 Q1345.06 1413.06 1348.17 1415.49 Q1351.27 1417.9 1351.27 1422.02 Q1351.27 1424.89 1349.62 1426.88 Q1347.98 1428.84 1344.95 1429.61 Z\" fill=\"#000000\" fill-rule=\"nonzero\" fill-opacity=\"1\" /><polyline clip-path=\"url(#clip890)\" style=\"stroke:#000000; stroke-linecap:round; stroke-linejoin:round; stroke-width:4; stroke-opacity:1; fill:none\" points=\"1383.89,1410.41 1799.35,1050.61 \"/>\n<polyline clip-path=\"url(#clip890)\" style=\"stroke:#000000; stroke-linecap:round; stroke-linejoin:round; stroke-width:4; stroke-opacity:1; fill:none\" points=\"1395.65,1400.23 1387.01,1397.74 \"/>\n<polyline clip-path=\"url(#clip890)\" style=\"stroke:#000000; stroke-linecap:round; stroke-linejoin:round; stroke-width:4; stroke-opacity:1; fill:none\" points=\"1493.63,1315.37 1485,1312.88 \"/>\n<polyline clip-path=\"url(#clip890)\" style=\"stroke:#000000; stroke-linecap:round; stroke-linejoin:round; stroke-width:4; stroke-opacity:1; fill:none\" points=\"1591.62,1230.51 1582.98,1228.02 \"/>\n<polyline clip-path=\"url(#clip890)\" style=\"stroke:#000000; stroke-linecap:round; stroke-linejoin:round; stroke-width:4; stroke-opacity:1; fill:none\" points=\"1689.61,1145.65 1680.97,1143.16 \"/>\n<polyline clip-path=\"url(#clip890)\" style=\"stroke:#000000; stroke-linecap:round; stroke-linejoin:round; stroke-width:4; stroke-opacity:1; fill:none\" points=\"1787.59,1060.8 1778.96,1058.3 \"/>\n<path clip-path=\"url(#clip890)\" d=\"M1430.41 1403.6 Q1426.8 1403.6 1424.97 1407.16 Q1423.17 1410.7 1423.17 1417.83 Q1423.17 1424.94 1424.97 1428.5 Q1426.8 1432.05 1430.41 1432.05 Q1434.05 1432.05 1435.85 1428.5 Q1437.68 1424.94 1437.68 1417.83 Q1437.68 1410.7 1435.85 1407.16 Q1434.05 1403.6 1430.41 1403.6 M1430.41 1399.89 Q1436.22 1399.89 1439.28 1404.5 Q1442.36 1409.08 1442.36 1417.83 Q1442.36 1426.56 1439.28 1431.17 Q1436.22 1435.75 1430.41 1435.75 Q1424.6 1435.75 1421.52 1431.17 Q1418.47 1426.56 1418.47 1417.83 Q1418.47 1409.08 1421.52 1404.5 Q1424.6 1399.89 1430.41 1399.89 Z\" fill=\"#000000\" fill-rule=\"nonzero\" fill-opacity=\"1\" /><path clip-path=\"url(#clip890)\" d=\"M1450.57 1429.2 L1455.46 1429.2 L1455.46 1435.08 L1450.57 1435.08 L1450.57 1429.2 Z\" fill=\"#000000\" fill-rule=\"nonzero\" fill-opacity=\"1\" /><path clip-path=\"url(#clip890)\" d=\"M1475.64 1403.6 Q1472.03 1403.6 1470.2 1407.16 Q1468.4 1410.7 1468.4 1417.83 Q1468.4 1424.94 1470.2 1428.5 Q1472.03 1432.05 1475.64 1432.05 Q1479.28 1432.05 1481.08 1428.5 Q1482.91 1424.94 1482.91 1417.83 Q1482.91 1410.7 1481.08 1407.16 Q1479.28 1403.6 1475.64 1403.6 M1475.64 1399.89 Q1481.45 1399.89 1484.51 1404.5 Q1487.59 1409.08 1487.59 1417.83 Q1487.59 1426.56 1484.51 1431.17 Q1481.45 1435.75 1475.64 1435.75 Q1469.83 1435.75 1466.75 1431.17 Q1463.7 1426.56 1463.7 1417.83 Q1463.7 1409.08 1466.75 1404.5 Q1469.83 1399.89 1475.64 1399.89 Z\" fill=\"#000000\" fill-rule=\"nonzero\" fill-opacity=\"1\" /><path clip-path=\"url(#clip890)\" d=\"M1528.4 1318.74 Q1524.79 1318.74 1522.96 1322.3 Q1521.15 1325.84 1521.15 1332.97 Q1521.15 1340.08 1522.96 1343.65 Q1524.79 1347.19 1528.4 1347.19 Q1532.03 1347.19 1533.84 1343.65 Q1535.67 1340.08 1535.67 1332.97 Q1535.67 1325.84 1533.84 1322.3 Q1532.03 1318.74 1528.4 1318.74 M1528.4 1315.03 Q1534.21 1315.03 1537.26 1319.64 Q1540.34 1324.22 1540.34 1332.97 Q1540.34 1341.7 1537.26 1346.31 Q1534.21 1350.89 1528.4 1350.89 Q1522.59 1350.89 1519.51 1346.31 Q1516.45 1341.7 1516.45 1332.97 Q1516.45 1324.22 1519.51 1319.64 Q1522.59 1315.03 1528.4 1315.03 Z\" fill=\"#000000\" fill-rule=\"nonzero\" fill-opacity=\"1\" /><path clip-path=\"url(#clip890)\" d=\"M1548.56 1344.34 L1553.44 1344.34 L1553.44 1350.22 L1548.56 1350.22 L1548.56 1344.34 Z\" fill=\"#000000\" fill-rule=\"nonzero\" fill-opacity=\"1\" /><path clip-path=\"url(#clip890)\" d=\"M1563.68 1315.66 L1582.03 1315.66 L1582.03 1319.59 L1567.96 1319.59 L1567.96 1328.07 Q1568.98 1327.72 1570 1327.56 Q1571.01 1327.37 1572.03 1327.37 Q1577.82 1327.37 1581.2 1330.54 Q1584.58 1333.71 1584.58 1339.13 Q1584.58 1344.71 1581.11 1347.81 Q1577.63 1350.89 1571.32 1350.89 Q1569.14 1350.89 1566.87 1350.52 Q1564.63 1350.15 1562.22 1349.41 L1562.22 1344.71 Q1564.3 1345.84 1566.52 1346.4 Q1568.75 1346.96 1571.22 1346.96 Q1575.23 1346.96 1577.57 1344.85 Q1579.9 1342.74 1579.9 1339.13 Q1579.9 1335.52 1577.57 1333.41 Q1575.23 1331.31 1571.22 1331.31 Q1569.35 1331.31 1567.47 1331.72 Q1565.62 1332.14 1563.68 1333.02 L1563.68 1315.66 Z\" fill=\"#000000\" fill-rule=\"nonzero\" fill-opacity=\"1\" /><path clip-path=\"url(#clip890)\" d=\"M1615.11 1261.43 L1622.75 1261.43 L1622.75 1235.06 L1614.44 1236.73 L1614.44 1232.47 L1622.7 1230.8 L1627.38 1230.8 L1627.38 1261.43 L1635.02 1261.43 L1635.02 1265.36 L1615.11 1265.36 L1615.11 1261.43 Z\" fill=\"#000000\" fill-rule=\"nonzero\" fill-opacity=\"1\" /><path clip-path=\"url(#clip890)\" d=\"M1644.46 1259.48 L1649.35 1259.48 L1649.35 1265.36 L1644.46 1265.36 L1644.46 1259.48 Z\" fill=\"#000000\" fill-rule=\"nonzero\" fill-opacity=\"1\" /><path clip-path=\"url(#clip890)\" d=\"M1669.53 1233.88 Q1665.92 1233.88 1664.09 1237.44 Q1662.29 1240.99 1662.29 1248.12 Q1662.29 1255.22 1664.09 1258.79 Q1665.92 1262.33 1669.53 1262.33 Q1673.17 1262.33 1674.97 1258.79 Q1676.8 1255.22 1676.8 1248.12 Q1676.8 1240.99 1674.97 1237.44 Q1673.17 1233.88 1669.53 1233.88 M1669.53 1230.18 Q1675.34 1230.18 1678.4 1234.78 Q1681.48 1239.37 1681.48 1248.12 Q1681.48 1256.84 1678.4 1261.45 Q1675.34 1266.03 1669.53 1266.03 Q1663.72 1266.03 1660.64 1261.45 Q1657.59 1256.84 1657.59 1248.12 Q1657.59 1239.37 1660.64 1234.78 Q1663.72 1230.18 1669.53 1230.18 Z\" fill=\"#000000\" fill-rule=\"nonzero\" fill-opacity=\"1\" /><path clip-path=\"url(#clip890)\" d=\"M1713.1 1176.57 L1720.74 1176.57 L1720.74 1150.2 L1712.43 1151.87 L1712.43 1147.61 L1720.69 1145.94 L1725.37 1145.94 L1725.37 1176.57 L1733.01 1176.57 L1733.01 1180.5 L1713.1 1180.5 L1713.1 1176.57 Z\" fill=\"#000000\" fill-rule=\"nonzero\" fill-opacity=\"1\" /><path clip-path=\"url(#clip890)\" d=\"M1742.45 1174.62 L1747.33 1174.62 L1747.33 1180.5 L1742.45 1180.5 L1742.45 1174.62 Z\" fill=\"#000000\" fill-rule=\"nonzero\" fill-opacity=\"1\" /><path clip-path=\"url(#clip890)\" d=\"M1757.57 1145.94 L1775.92 1145.94 L1775.92 1149.88 L1761.85 1149.88 L1761.85 1158.35 Q1762.87 1158 1763.89 1157.84 Q1764.9 1157.65 1765.92 1157.65 Q1771.71 1157.65 1775.09 1160.83 Q1778.47 1164 1778.47 1169.41 Q1778.47 1174.99 1775 1178.09 Q1771.52 1181.17 1765.2 1181.17 Q1763.03 1181.17 1760.76 1180.8 Q1758.51 1180.43 1756.11 1179.69 L1756.11 1174.99 Q1758.19 1176.13 1760.41 1176.68 Q1762.64 1177.24 1765.11 1177.24 Q1769.12 1177.24 1771.45 1175.13 Q1773.79 1173.02 1773.79 1169.41 Q1773.79 1165.8 1771.45 1163.7 Q1769.12 1161.59 1765.11 1161.59 Q1763.24 1161.59 1761.36 1162.01 Q1759.51 1162.42 1757.57 1163.3 L1757.57 1145.94 Z\" fill=\"#000000\" fill-rule=\"nonzero\" fill-opacity=\"1\" /><path clip-path=\"url(#clip890)\" d=\"M1816.04 1091.71 L1832.36 1091.71 L1832.36 1095.64 L1810.41 1095.64 L1810.41 1091.71 Q1813.08 1088.95 1817.66 1084.32 Q1822.27 1079.67 1823.45 1078.33 Q1825.69 1075.81 1826.57 1074.07 Q1827.47 1072.31 1827.47 1070.62 Q1827.47 1067.87 1825.53 1066.13 Q1823.61 1064.39 1820.51 1064.39 Q1818.31 1064.39 1815.85 1065.16 Q1813.42 1065.92 1810.64 1067.47 L1810.64 1062.75 Q1813.47 1061.62 1815.92 1061.04 Q1818.38 1060.46 1820.41 1060.46 Q1825.78 1060.46 1828.98 1063.14 Q1832.17 1065.83 1832.17 1070.32 Q1832.17 1072.45 1831.36 1074.37 Q1830.58 1076.27 1828.47 1078.86 Q1827.89 1079.53 1824.79 1082.75 Q1821.69 1085.94 1816.04 1091.71 Z\" fill=\"#000000\" fill-rule=\"nonzero\" fill-opacity=\"1\" /><path clip-path=\"url(#clip890)\" d=\"M1842.17 1089.76 L1847.06 1089.76 L1847.06 1095.64 L1842.17 1095.64 L1842.17 1089.76 Z\" fill=\"#000000\" fill-rule=\"nonzero\" fill-opacity=\"1\" /><path clip-path=\"url(#clip890)\" d=\"M1867.24 1064.16 Q1863.63 1064.16 1861.8 1067.73 Q1860 1071.27 1860 1078.4 Q1860 1085.5 1861.8 1089.07 Q1863.63 1092.61 1867.24 1092.61 Q1870.88 1092.61 1872.68 1089.07 Q1874.51 1085.5 1874.51 1078.4 Q1874.51 1071.27 1872.68 1067.73 Q1870.88 1064.16 1867.24 1064.16 M1867.24 1060.46 Q1873.05 1060.46 1876.11 1065.06 Q1879.19 1069.65 1879.19 1078.4 Q1879.19 1087.12 1876.11 1091.73 Q1873.05 1096.31 1867.24 1096.31 Q1861.43 1096.31 1858.35 1091.73 Q1855.3 1087.12 1855.3 1078.4 Q1855.3 1069.65 1858.35 1065.06 Q1861.43 1060.46 1867.24 1060.46 Z\" fill=\"#000000\" fill-rule=\"nonzero\" fill-opacity=\"1\" /><polyline clip-path=\"url(#clip890)\" style=\"stroke:#000000; stroke-linecap:round; stroke-linejoin:round; stroke-width:4; stroke-opacity:1; fill:none\" points=\"664.286,1202.68 664.286,483.08 \"/>\n<polyline clip-path=\"url(#clip890)\" style=\"stroke:#000000; stroke-linecap:round; stroke-linejoin:round; stroke-width:4; stroke-opacity:1; fill:none\" points=\"664.286,1182.32 669.272,1178 \"/>\n<polyline clip-path=\"url(#clip890)\" style=\"stroke:#000000; stroke-linecap:round; stroke-linejoin:round; stroke-width:4; stroke-opacity:1; fill:none\" points=\"664.286,956.026 669.272,951.708 \"/>\n<polyline clip-path=\"url(#clip890)\" style=\"stroke:#000000; stroke-linecap:round; stroke-linejoin:round; stroke-width:4; stroke-opacity:1; fill:none\" points=\"664.286,729.736 669.272,725.418 \"/>\n<polyline clip-path=\"url(#clip890)\" style=\"stroke:#000000; stroke-linecap:round; stroke-linejoin:round; stroke-width:4; stroke-opacity:1; fill:none\" points=\"664.286,503.446 669.272,499.128 \"/>\n<path clip-path=\"url(#clip890)\" d=\"M623.542 1168.11 Q619.931 1168.11 618.102 1171.68 Q616.297 1175.22 616.297 1182.35 Q616.297 1189.46 618.102 1193.02 Q619.931 1196.56 623.542 1196.56 Q627.176 1196.56 628.982 1193.02 Q630.81 1189.46 630.81 1182.35 Q630.81 1175.22 628.982 1171.68 Q627.176 1168.11 623.542 1168.11 M623.542 1164.41 Q629.352 1164.41 632.408 1169.02 Q635.486 1173.6 635.486 1182.35 Q635.486 1191.08 632.408 1195.68 Q629.352 1200.27 623.542 1200.27 Q617.732 1200.27 614.653 1195.68 Q611.598 1191.08 611.598 1182.35 Q611.598 1173.6 614.653 1169.02 Q617.732 1164.41 623.542 1164.41 Z\" fill=\"#000000\" fill-rule=\"nonzero\" fill-opacity=\"1\" /><path clip-path=\"url(#clip890)\" d=\"M615.579 969.371 L623.218 969.371 L623.218 943.005 L614.908 944.672 L614.908 940.412 L623.172 938.746 L627.847 938.746 L627.847 969.371 L635.486 969.371 L635.486 973.306 L615.579 973.306 L615.579 969.371 Z\" fill=\"#000000\" fill-rule=\"nonzero\" fill-opacity=\"1\" /><path clip-path=\"url(#clip890)\" d=\"M619.167 743.081 L635.486 743.081 L635.486 747.016 L613.542 747.016 L613.542 743.081 Q616.204 740.326 620.787 735.697 Q625.394 731.044 626.574 729.701 Q628.82 727.178 629.699 725.442 Q630.602 723.683 630.602 721.993 Q630.602 719.238 628.658 717.502 Q626.736 715.766 623.634 715.766 Q621.435 715.766 618.982 716.53 Q616.551 717.294 613.773 718.845 L613.773 714.123 Q616.597 712.988 619.051 712.41 Q621.505 711.831 623.542 711.831 Q628.912 711.831 632.107 714.516 Q635.301 717.201 635.301 721.692 Q635.301 723.822 634.491 725.743 Q633.704 727.641 631.597 730.234 Q631.019 730.905 627.917 734.122 Q624.815 737.317 619.167 743.081 Z\" fill=\"#000000\" fill-rule=\"nonzero\" fill-opacity=\"1\" /><path clip-path=\"url(#clip890)\" d=\"M628.357 502.092 Q631.713 502.809 633.588 505.078 Q635.486 507.346 635.486 510.68 Q635.486 515.795 631.968 518.596 Q628.449 521.397 621.968 521.397 Q619.792 521.397 617.477 520.957 Q615.185 520.541 612.732 519.684 L612.732 515.17 Q614.676 516.305 616.991 516.883 Q619.306 517.462 621.829 517.462 Q626.227 517.462 628.519 515.726 Q630.834 513.99 630.834 510.68 Q630.834 507.624 628.681 505.911 Q626.551 504.175 622.732 504.175 L618.704 504.175 L618.704 500.333 L622.917 500.333 Q626.366 500.333 628.195 498.967 Q630.023 497.578 630.023 494.985 Q630.023 492.323 628.125 490.911 Q626.25 489.476 622.732 489.476 Q620.81 489.476 618.611 489.893 Q616.412 490.31 613.773 491.189 L613.773 487.022 Q616.435 486.282 618.75 485.911 Q621.088 485.541 623.148 485.541 Q628.472 485.541 631.574 487.972 Q634.676 490.379 634.676 494.499 Q634.676 497.37 633.033 499.36 Q631.389 501.328 628.357 502.092 Z\" fill=\"#000000\" fill-rule=\"nonzero\" fill-opacity=\"1\" /><polyline clip-path=\"url(#clip892)\" style=\"stroke:#009af9; stroke-linecap:round; stroke-linejoin:round; stroke-width:8; stroke-opacity:1; fill:none\" points=\"696.411,1178.01 1314.65,225.032 \"/>\n<polyline clip-path=\"url(#clip892)\" style=\"stroke:#e26f46; stroke-linecap:round; stroke-linejoin:round; stroke-width:8; stroke-opacity:1; fill:none\" points=\"696.411,1178.01 1750.89,724.344 \"/>\n<path clip-path=\"url(#clip890)\" d=\"M185.61 250.738 L436.957 250.738 L436.957 95.2176 L185.61 95.2176  Z\" fill=\"#ffffff\" fill-rule=\"evenodd\" fill-opacity=\"1\"/>\n<polyline clip-path=\"url(#clip890)\" style=\"stroke:#000000; stroke-linecap:round; stroke-linejoin:round; stroke-width:4; stroke-opacity:1; fill:none\" points=\"185.61,250.738 436.957,250.738 436.957,95.2176 185.61,95.2176 185.61,250.738 \"/>\n<polyline clip-path=\"url(#clip890)\" style=\"stroke:#009af9; stroke-linecap:round; stroke-linejoin:round; stroke-width:8; stroke-opacity:1; fill:none\" points=\"210.52,147.058 359.978,147.058 \"/>\n<path clip-path=\"url(#clip890)\" d=\"M408.779 139.249 Q408.779 140.56 407.959 141.31 Q407.139 142.036 406.202 142.036 Q405.312 142.036 404.844 141.521 Q404.375 141.006 404.375 140.35 Q404.375 139.46 405.031 138.687 Q405.687 137.914 406.671 137.75 Q405.71 137.141 404.282 137.141 Q403.345 137.141 402.525 137.633 Q401.729 138.125 401.237 138.757 Q400.768 139.389 400.347 140.303 Q399.948 141.193 399.785 141.732 Q399.644 142.247 399.527 142.809 L397.887 149.367 Q397.091 152.483 397.091 153.583 Q397.091 154.942 397.747 155.855 Q398.403 156.745 399.714 156.745 Q400.23 156.745 400.815 156.605 Q401.401 156.441 402.15 156.019 Q402.923 155.574 403.602 154.918 Q404.305 154.239 404.984 153.091 Q405.664 151.944 406.109 150.468 Q406.249 149.953 406.718 149.953 Q407.303 149.953 407.303 150.421 Q407.303 150.82 406.975 151.663 Q406.671 152.483 405.991 153.56 Q405.336 154.614 404.469 155.574 Q403.602 156.511 402.314 157.167 Q401.026 157.823 399.621 157.823 Q397.606 157.823 396.271 156.745 Q394.936 155.668 394.444 154.169 Q394.327 154.38 394.163 154.661 Q393.999 154.942 393.507 155.574 Q393.039 156.183 392.5 156.652 Q391.961 157.097 391.118 157.448 Q390.298 157.823 389.408 157.823 Q388.284 157.823 387.277 157.495 Q386.293 157.167 385.591 156.417 Q384.888 155.668 384.888 154.637 Q384.888 153.49 385.661 152.693 Q386.457 151.874 387.535 151.874 Q388.214 151.874 388.753 152.272 Q389.315 152.67 389.315 153.537 Q389.315 154.497 388.659 155.223 Q388.003 155.949 387.066 156.136 Q388.026 156.745 389.455 156.745 Q391.001 156.745 392.219 155.387 Q393.437 154.028 394.023 151.756 Q395.475 146.299 396.037 143.863 Q396.599 141.404 396.599 140.35 Q396.599 139.366 396.341 138.687 Q396.084 138.007 395.639 137.703 Q395.217 137.375 394.819 137.258 Q394.444 137.141 394.023 137.141 Q393.32 137.141 392.524 137.422 Q391.751 137.703 390.814 138.359 Q389.9 138.991 389.034 140.303 Q388.167 141.615 387.581 143.418 Q387.464 143.957 386.949 143.957 Q386.387 143.933 386.387 143.465 Q386.387 143.067 386.691 142.247 Q387.019 141.404 387.675 140.35 Q388.354 139.296 389.221 138.359 Q390.111 137.398 391.399 136.743 Q392.711 136.087 394.116 136.087 Q394.749 136.087 395.358 136.227 Q395.99 136.344 396.74 136.696 Q397.513 137.047 398.192 137.82 Q398.871 138.593 399.293 139.717 Q399.574 139.179 399.948 138.663 Q400.347 138.148 400.956 137.516 Q401.588 136.86 402.455 136.485 Q403.345 136.087 404.328 136.087 Q405.289 136.087 406.226 136.344 Q407.163 136.579 407.959 137.352 Q408.779 138.101 408.779 139.249 Z\" fill=\"#000000\" fill-rule=\"nonzero\" fill-opacity=\"1\" /><polyline clip-path=\"url(#clip890)\" style=\"stroke:#e26f46; stroke-linecap:round; stroke-linejoin:round; stroke-width:8; stroke-opacity:1; fill:none\" points=\"210.52,198.898 359.978,198.898 \"/>\n<path clip-path=\"url(#clip890)\" d=\"M407.022 185.152 Q407.022 185.48 406.811 186.253 L402.22 204.569 Q401.213 208.645 397.934 211.502 Q394.678 214.36 390.978 214.36 Q388.753 214.36 387.324 213.165 Q385.895 211.994 385.895 210.191 Q385.895 208.598 386.738 207.825 Q387.581 207.076 388.589 207.076 Q388.916 207.076 389.268 207.169 Q389.619 207.263 389.994 207.661 Q390.369 208.059 390.369 208.739 Q390.369 209.839 389.408 210.706 Q388.94 211.104 388.495 211.198 Q388.073 211.292 387.347 211.292 Q387.628 211.947 388.144 212.392 Q388.659 212.838 389.244 213.001 Q389.83 213.189 390.205 213.236 Q390.603 213.306 390.978 213.306 Q393.976 213.306 396.271 210.284 Q396.95 209.371 397.442 208.458 Q397.958 207.567 398.332 206.467 Q398.707 205.389 398.871 204.804 Q399.058 204.218 399.386 202.883 Q397.208 205.061 394.538 205.061 Q393.414 205.061 392.406 204.757 Q391.423 204.452 390.556 203.82 Q389.689 203.164 389.174 202.016 Q388.682 200.869 388.682 199.346 Q388.682 197.73 389.315 195.528 Q389.947 193.327 391.47 189.275 Q392.289 187.003 392.289 185.902 Q392.289 185.363 392.172 185.035 Q392.055 184.684 391.821 184.567 Q391.587 184.426 391.446 184.403 Q391.329 184.379 391.095 184.379 Q389.713 184.379 388.425 185.785 Q387.136 187.19 386.246 190.329 Q386.059 190.914 385.942 191.055 Q385.825 191.195 385.473 191.195 Q384.888 191.172 384.888 190.703 Q384.888 190.516 385.099 189.79 Q385.309 189.04 385.801 187.939 Q386.317 186.815 387.019 185.808 Q387.722 184.777 388.823 184.051 Q389.947 183.325 391.235 183.325 Q392.992 183.325 394.069 184.473 Q395.17 185.597 395.17 187.26 Q395.17 187.939 394.983 188.548 Q394.819 189.134 394.21 190.703 Q391.751 197.027 391.751 200.119 Q391.751 200.869 391.868 201.501 Q392.008 202.11 392.313 202.719 Q392.617 203.305 393.226 203.656 Q393.859 203.984 394.725 203.984 Q395.826 203.984 396.857 203.469 Q397.911 202.93 398.567 202.204 Q399.246 201.478 399.644 200.869 Q400.066 200.236 400.159 199.908 L402.314 191.289 L403.274 187.448 Q403.719 185.363 403.93 184.848 Q404.211 184.356 404.703 184.098 Q405.195 183.841 405.617 183.841 Q406.202 183.841 406.6 184.192 Q407.022 184.543 407.022 185.152 Z\" fill=\"#000000\" fill-rule=\"nonzero\" fill-opacity=\"1\" /></svg>\n"
          },
          "metadata": {},
          "execution_count": 96
        }
      ]
    },
    {
      "cell_type": "markdown",
      "source": [
        "<a name=\"resources\"> </a>\n",
        "# Helpful resources\n",
        "* Matrix inversion - https://www.math.ucdavis.edu/~linear/old/notes10.pdf\n",
        "* Matrix algebra: Determinants, inverses and eigenvalues - https://twister.caps.ou.edu/OBAN2019/Intro_FEM_files/IFEM.AppC.pdf\n",
        "* Linear Algebra and Matrix Inversion, Determinant of Matrix, Matrix Factorization: https://www3.nd.edu/~zxu2/acms40390F13/Lec-6.3-5.pdf\n",
        "* Invertibility and Properties of Determinants: https://sites.lafayette.edu/thompsmc/files/2016/02/U1_S7.pdf"
      ],
      "metadata": {
        "id": "UcXcCoJXE_K8"
      }
    }
  ]
}